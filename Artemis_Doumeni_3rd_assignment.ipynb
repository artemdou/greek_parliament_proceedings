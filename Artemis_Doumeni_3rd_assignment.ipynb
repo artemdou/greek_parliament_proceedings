{
 "cells": [
  {
   "cell_type": "markdown",
   "metadata": {},
   "source": [
    "# Assignment 3: Greek Parliament Proceedings\n",
    "\n",
    "\n",
    "---\n",
    "\n",
    "> Artemis Doumeni, 8170027 <br />\n",
    "> Department of Management Science and Technology <br />\n",
    "> Athens University of Economics and Business <br />\n",
    "> t8170027@aueb.gr"
   ]
  },
  {
   "cell_type": "markdown",
   "metadata": {},
   "source": [
    "The report uses a dataset containing Greek Parliament proceedings, available at https://zenodo.org/record/2587904. The dataset description is available at Zenodo and can be found here."
   ]
  },
  {
   "cell_type": "markdown",
   "metadata": {},
   "source": [
    "*Some Input and Output numbers may not align as they were pased from a different notebook*"
   ]
  },
  {
   "cell_type": "markdown",
   "metadata": {},
   "source": [
    "## Part 1: Data Exploration"
   ]
  },
  {
   "cell_type": "markdown",
   "metadata": {},
   "source": [
    "Import necessary libraries"
   ]
  },
  {
   "cell_type": "code",
   "execution_count": 1,
   "metadata": {},
   "outputs": [],
   "source": [
    "import pandas as pd\n",
    "import sklearn as sk\n",
    "import numpy as np\n",
    "import matplotlib.pyplot as plt\n",
    "from plotnine import *\n",
    "from collections import Counter"
   ]
  },
  {
   "cell_type": "markdown",
   "metadata": {},
   "source": [
    "Load proceedings dataframe"
   ]
  },
  {
   "cell_type": "code",
   "execution_count": 2,
   "metadata": {},
   "outputs": [],
   "source": [
    "dtypes = {'member_name': 'str', 'sitting_date': 'str', 'parliamentary_period': 'str', 'parliamentary_session': 'str',\n",
    "         'parliamentary_sitting': 'str', 'political_party': 'str', 'speaker_info': 'str', 'speech': 'str'}\n",
    "parse_dates = ['sitting_date']\n",
    "proceedings = pd.read_csv('Greek_Parliament_Proceedings_1989_2019.csv', parse_dates=parse_dates)\n",
    "proceedings['sitting_date'] = pd.to_datetime(proceedings['sitting_date'],format = \"%Y-%mm-%dd\")"
   ]
  },
  {
   "cell_type": "markdown",
   "metadata": {},
   "source": [
    "Show number of speeches per party"
   ]
  },
  {
   "cell_type": "code",
   "execution_count": 3,
   "metadata": {},
   "outputs": [
    {
     "data": {
      "text/plain": [
       "Counter({'πανελληνιο σοσιαλιστικο κινημα': 377684,\n",
       "         'βουλη': 45876,\n",
       "         'νεα δημοκρατια': 385640,\n",
       "         'κομμουνιστικο κομμα ελλαδας εσωτερικου': 202,\n",
       "         'κομμουνιστικο κομμα ελλαδας': 78631,\n",
       "         'συνασπισμος της αριστερας των κινηματων και της οικολογιας': 35891,\n",
       "         nan: 162,\n",
       "         'λαικος ορθοδοξος συναγερμος': 23686,\n",
       "         'οικολογοι εναλλακτικοι (ομοσπονδια οικολογικων εναλλακτικων οργανωσεων)': 307,\n",
       "         'ανεξαρτητοι (εκτος κομματος)': 29951,\n",
       "         'δημοκρατικη ανανεωση': 6,\n",
       "         'αντιπολιτευση': 11,\n",
       "         'πολιτικη ανοιξη': 3384,\n",
       "         'δημοκρατικο κοινωνικο κινημα': 6056,\n",
       "         'συνασπισμος ριζοσπαστικης αριστερας': 126572,\n",
       "         'δημοκρατικη αριστερα': 4204,\n",
       "         'ανεξαρτητοι ελληνες - πανος καμμενος': 13785,\n",
       "         'ανεξαρτητοι δημοκρατικοι βουλευτες': 1769,\n",
       "         'λαικος συνδεσος - χρυση αυγη': 14172,\n",
       "         'το ποταμι': 7672,\n",
       "         'ανεξαρτητοι ελληνες εθνικη πατριωτικη δημοκρατικη συμμαχια': 5521,\n",
       "         'λαικη ενοτητα': 346,\n",
       "         'δημοκρατικη συμπαραταξη (πανελληνιο σοσιαλιστικο κινημα - δημοκρατικη αριστερα)': 22991,\n",
       "         'ενωση κεντρωων': 9888})"
      ]
     },
     "execution_count": 3,
     "metadata": {},
     "output_type": "execute_result"
    }
   ],
   "source": [
    "counter = Counter(proceedings['political_party'])\n",
    "counter.most_common()"
   ]
  },
  {
   "cell_type": "markdown",
   "metadata": {},
   "source": [
    "We see that \"βουλη\" and \"αντιπολίτευση\" are considered parties something that will hinder our analysis going forward. The actual parties with the most speeches are \"πανελληνιο σοσιαλιστικο κινημα\" and \"νεα δημοκρατια\", which was expected."
   ]
  },
  {
   "cell_type": "markdown",
   "metadata": {},
   "source": [
    "Drop rows with nan party or party tagged as \"βουλη\" and \"αντιπολιτευση\""
   ]
  },
  {
   "cell_type": "code",
   "execution_count": 3,
   "metadata": {},
   "outputs": [],
   "source": [
    "proceedings.dropna(subset=['political_party'], inplace = True)\n",
    "proceedings = proceedings.drop(proceedings[proceedings.political_party == 'βουλη'].index)\n",
    "proceedings = proceedings.drop(proceedings[proceedings.political_party == 'αντιπολιτευση'].index)"
   ]
  },
  {
   "cell_type": "markdown",
   "metadata": {},
   "source": [
    "Drop rows with nan and very small speeches ( number of words under 10)"
   ]
  },
  {
   "cell_type": "code",
   "execution_count": 4,
   "metadata": {},
   "outputs": [],
   "source": [
    "proceedings.dropna(subset=['speech'], inplace = True)\n",
    "proceedings = proceedings.drop(proceedings[proceedings.speech == '...'].index)"
   ]
  },
  {
   "cell_type": "markdown",
   "metadata": {},
   "source": [
    "Now the total number of speeches and the speeches per party have been reduced"
   ]
  },
  {
   "cell_type": "code",
   "execution_count": 6,
   "metadata": {},
   "outputs": [
    {
     "name": "stdout",
     "output_type": "stream",
     "text": [
      "Total number of speeches:  1147551\n"
     ]
    }
   ],
   "source": [
    "print(\"Total number of speeches: \", len(proceedings))"
   ]
  },
  {
   "cell_type": "code",
   "execution_count": 5,
   "metadata": {},
   "outputs": [
    {
     "data": {
      "text/plain": [
       "[('νεα δημοκρατια', 385355),\n",
       " ('πανελληνιο σοσιαλιστικο κινημα', 377294),\n",
       " ('συνασπισμος ριζοσπαστικης αριστερας', 126568),\n",
       " ('κομμουνιστικο κομμα ελλαδας', 78611),\n",
       " ('συνασπισμος της αριστερας των κινηματων και της οικολογιας', 35860),\n",
       " ('ανεξαρτητοι (εκτος κομματος)', 29905),\n",
       " ('λαικος ορθοδοξος συναγερμος', 23686),\n",
       " ('δημοκρατικη συμπαραταξη (πανελληνιο σοσιαλιστικο κινημα - δημοκρατικη αριστερα)',\n",
       "  22990),\n",
       " ('λαικος συνδεσος - χρυση αυγη', 14170),\n",
       " ('ανεξαρτητοι ελληνες - πανος καμμενος', 13785),\n",
       " ('ενωση κεντρωων', 9888),\n",
       " ('το ποταμι', 7672),\n",
       " ('δημοκρατικο κοινωνικο κινημα', 6029),\n",
       " ('ανεξαρτητοι ελληνες εθνικη πατριωτικη δημοκρατικη συμμαχια', 5520),\n",
       " ('δημοκρατικη αριστερα', 4204),\n",
       " ('πολιτικη ανοιξη', 3384),\n",
       " ('ανεξαρτητοι δημοκρατικοι βουλευτες', 1769),\n",
       " ('λαικη ενοτητα', 346),\n",
       " ('οικολογοι εναλλακτικοι (ομοσπονδια οικολογικων εναλλακτικων οργανωσεων)',\n",
       "  307),\n",
       " ('κομμουνιστικο κομμα ελλαδας εσωτερικου', 202),\n",
       " ('δημοκρατικη ανανεωση', 6)]"
      ]
     },
     "execution_count": 5,
     "metadata": {},
     "output_type": "execute_result"
    }
   ],
   "source": [
    "counter = Counter(proceedings['political_party'])\n",
    "counter.most_common()"
   ]
  },
  {
   "cell_type": "markdown",
   "metadata": {},
   "source": [
    "Parties represented in the data"
   ]
  },
  {
   "cell_type": "code",
   "execution_count": 6,
   "metadata": {},
   "outputs": [
    {
     "data": {
      "text/plain": [
       "21"
      ]
     },
     "execution_count": 6,
     "metadata": {},
     "output_type": "execute_result"
    }
   ],
   "source": [
    "proceedings.political_party.nunique()"
   ]
  },
  {
   "cell_type": "markdown",
   "metadata": {},
   "source": [
    "Let's further explore the number od speeches per party"
   ]
  },
  {
   "cell_type": "code",
   "execution_count": 8,
   "metadata": {},
   "outputs": [
    {
     "data": {
      "text/plain": [
       "Text(0, 0.5, 'Count of Speeches')"
      ]
     },
     "execution_count": 8,
     "metadata": {},
     "output_type": "execute_result"
    },
    {
     "data": {
      "text/plain": [
       "<Figure size 1296x576 with 0 Axes>"
      ]
     },
     "metadata": {},
     "output_type": "display_data"
    },
    {
     "data": {
      "image/png": "[encoded data removed]",
      "text/plain": [
       "<Figure size 432x288 with 1 Axes>"
      ]
     },
     "metadata": {
      "needs_background": "light"
     },
     "output_type": "display_data"
    }
   ],
   "source": [
    "sp_by_party = proceedings.groupby(['political_party']).size().reset_index(name='speeches')\n",
    "sp_by_party.sort_values(by=['speeches'], ascending=False, inplace = True)\n",
    "sp_by_party.set_index('political_party', inplace = True)\n",
    "sp_by_party\n",
    "\n",
    "plt.figure(figsize=(18,8))\n",
    "ax1 = sp_by_party.plot(kind='bar')\n",
    "ax1.set_xticklabels(sp_by_party.index)\n",
    "ax1.set_title('Number of speeches per party')\n",
    "ax1.set_xlabel('Party')\n",
    "ax1.set_ylabel('Count of Speeches')"
   ]
  },
  {
   "cell_type": "markdown",
   "metadata": {},
   "source": [
    "We see that the top two parties by number of speeches are \"νεα δημοκρατια\" and \"πανελληνιο σοσιαλιστικο κινημα\", a fact that attests to the bipartisanship that characterizes the greek political sceen. The following two parites -\"συνασπισμος ριζοσπαστικης αριστερας\" and \"κουμμουνιστικο κομμα ελλαδας\"- follow in a great distance while the speeches of rest of the parties are practically non-existent. <br>\n",
    "We can safely say that out data is not balaced. We will explore ways to manage that later on."
   ]
  },
  {
   "cell_type": "markdown",
   "metadata": {},
   "source": [
    "Now let's see how the speeches are distributed through time"
   ]
  },
  {
   "cell_type": "code",
   "execution_count": 9,
   "metadata": {},
   "outputs": [
    {
     "data": {
      "image/png": "[encoded data removed]",
      "text/plain": [
       "<Figure size 1080x576 with 1 Axes>"
      ]
     },
     "metadata": {
      "needs_background": "light"
     },
     "output_type": "display_data"
    }
   ],
   "source": [
    "sp_by_year = proceedings['sitting_date'].groupby([proceedings['sitting_date'].dt.year]).agg({'count'})\n",
    "ax = sp_by_year.plot.line(figsize = (15,8))\n",
    "ax.set_title('Number of speeches over the years')\n",
    "ax.set_xlabel('Year')\n",
    "ax.set_ylabel('Count of Speeches')\n",
    "ax.grid(b=None, which='major', axis='both')\n",
    "\n",
    "sp_by_year['cumulative'] = np.cumsum(sp_by_year['count'])\n",
    "\n",
    "plt.plot(sp_by_year.index, sp_by_year['cumulative'], c='blue', label='cumulative speeches/year')\n",
    "plt.plot(sp_by_year.index, sp_by_year['count'], c='green', label='speeches/year')\n",
    "\n",
    "plt.show()"
   ]
  },
  {
   "cell_type": "markdown",
   "metadata": {},
   "source": [
    "We can see that the greatest amount of speeches happend after 2000 (about 40000 speeches). This could be usefull if we need to take a subset of the dataset."
   ]
  },
  {
   "cell_type": "markdown",
   "metadata": {},
   "source": [
    "Let's now focus on the top 3 parties"
   ]
  },
  {
   "cell_type": "code",
   "execution_count": 10,
   "metadata": {},
   "outputs": [
    {
     "data": {
      "image/png": "[encoded data removed]",
      "text/plain": [
       "<Figure size 1296x864 with 3 Axes>"
      ]
     },
     "metadata": {
      "needs_background": "light"
     },
     "output_type": "display_data"
    }
   ],
   "source": [
    "sp_by_year_per_p = proceedings.groupby([proceedings['sitting_date'].dt.year, 'political_party']).size().reset_index(name='counts')\n",
    "sp_by_year_per_p = sp_by_year_per_p.sort_values([\"sitting_date\", \"counts\"], ascending = (True, False))\n",
    "sp_by_year_per_p.set_index('sitting_date', inplace = True)\n",
    "nd =  pd.DataFrame(data=sp_by_year_per_p.loc[sp_by_year_per_p['political_party'] == 'νεα δημοκρατια'])\n",
    "pasok =  pd.DataFrame(data=sp_by_year_per_p.loc[sp_by_year_per_p['political_party'] == 'πανελληνιο σοσιαλιστικο κινημα'])\n",
    "siriza =  pd.DataFrame(data=sp_by_year_per_p.loc[sp_by_year_per_p['political_party'] == 'συνασπισμος ριζοσπαστικης αριστερας'])\n",
    "\n",
    "fig, (ax1, ax2, ax3) = plt.subplots(1, 3, figsize = (18,12))\n",
    "\n",
    "ax1.plot(nd.index, nd.counts)\n",
    "ax1.set_title('Νεα Δημοκρατια')\n",
    "ax1.set_xlabel('Year')\n",
    "ax1.set_ylabel('Count of Speeches')\n",
    "ax1.grid(b=None, which='major', axis='both')\n",
    "\n",
    "ax2.plot(pasok.index, pasok.counts)\n",
    "ax2.set_title('Πανελληνιο Σοσιαλιστικο Κινημα')\n",
    "ax2.set_xlabel('Year')\n",
    "ax2.set_ylabel('Count of Speeches')\n",
    "ax2.grid(b=None, which='major', axis='both')\n",
    "\n",
    "ax3.plot(siriza.index, siriza.counts)\n",
    "ax3.set_title('Συνασπισμος Ριζοσπαστικης Αριστερας')\n",
    "ax3.set_xlabel('Year')\n",
    "ax3.set_ylabel('Count of Speeches')\n",
    "ax3.grid(b=None, which='major', axis='both')"
   ]
  },
  {
   "cell_type": "markdown",
   "metadata": {},
   "source": [
    "We can see than \"Νεα δημοκρατια\" and \"Πανελληνιο Σοσιαλιστικο Κινημα\" speeches drop after 2010 while \"Συνασπισμος Ριζοσπαστικης Αριστερας\" rizes. This is expected should we consider the political and social changes of the time."
   ]
  },
  {
   "cell_type": "markdown",
   "metadata": {},
   "source": [
    "## Part 2: Machine Learning Algorithms"
   ]
  },
  {
   "cell_type": "markdown",
   "metadata": {},
   "source": [
    "In this report 2 different algorithms are implemented:\n",
    "* *SGD*: according to [scikit-learn](https://scikit-learn.org/stable/modules/sgd.html) documentation it has been successfully applied to large-scale and sparse machine learning problems often encountered in text classification and natural language processing.\n",
    "* *Decision Tree*: in hindight it probably wasn't the best choice of classifier as it did not yield hight scores. \n",
    "* *Random Forest Classifier*: after implementing the Decision Tree we tried to imrove the score by using a forest. Accuracy was slightly increased but should we had run a grid search we could have chosen more appropriate hyperparameters.\n",
    "<br> \n",
    "\n",
    "*SVM*: after some reaserch we concluded that SVM is one of the most popular classifiers for text classification in python, therefore we thought that its implementation would be interesting. We starded with a grid search which even 4 days later had not been executed. The code for the grid search is displayed at the end of Part 2."
   ]
  },
  {
   "cell_type": "code",
   "execution_count": 43,
   "metadata": {},
   "outputs": [],
   "source": [
    "from sklearn.pipeline import Pipeline\n",
    "from sklearn.feature_extraction.text import CountVectorizer\n",
    "from sklearn.feature_extraction.text import TfidfTransformer\n",
    "from sklearn.linear_model import SGDClassifier\n",
    "from sklearn.tree import DecisionTreeClassifier\n",
    "from sklearn.ensemble import RandomForestClassifier\n",
    "from sklearn.model_selection import GridSearchCV\n",
    "from sklearn import svm\n",
    "-> from imblearn.over_sampling import RandomOverSampler\n",
    "-> from imblearn.under_sampling import RandomUnderSampler\n",
    "from sklearn.metrics import classification_report\n",
    "-> from imblearn.pipeline import make_pipeline as make_pipeline_imb\n",
    "from sklearn.dummy import DummyClassifier\n",
    "-> from imblearn.metrics import classification_report_imbalanced\n",
    "from sklearn.model_selection import train_test_split\n",
    "from sklearn import metrics\n",
    "from sklearn.model_selection import KFold"
   ]
  },
  {
   "cell_type": "markdown",
   "metadata": {},
   "source": [
    "### Pre-processing\n",
    "After trying different approaches and combinations we concluded that:\n",
    "* Removing punctuation has little to no effect\n",
    "* Making all letters lower case has little to no effect\n",
    "* Removing small speeches (< 10 word) has a great effect on accuracy, precision, recall and f1-score (removing speeches with <5 words yields similar -slightly worse- scores and excludes a lot less records, but due to computational resource management we chose to only include speeches with more than 10 words)\n",
    "* Removing leading and trailing spaces has a mediocre effect on accuracy"
   ]
  },
  {
   "cell_type": "code",
   "execution_count": 12,
   "metadata": {},
   "outputs": [
    {
     "data": {
      "text/plain": [
       "657445"
      ]
     },
     "execution_count": 12,
     "metadata": {},
     "output_type": "execute_result"
    }
   ],
   "source": [
    "proceedings_p2 = proceedings[['speech', 'political_party']]\n",
    "proceedings_p2 = proceedings_p2[~proceedings['speech'].str.split().str.len().lt(10)]\n",
    "proceedings_p2['speech'] = proceedings_p2['speech'].str.strip()\n",
    "#proceedings_p2[\"speech\"] = proceedings_p2[\"speech\"].str.replace('[^\\w\\s]','')\n",
    "#proceedings_p2['speech'] = proceedings_p2['speech'].str.lower()\n",
    "len(proceedings_p2)"
   ]
  },
  {
   "cell_type": "markdown",
   "metadata": {},
   "source": [
    "Firstly, we split the dataset"
   ]
  },
  {
   "cell_type": "code",
   "execution_count": 14,
   "metadata": {},
   "outputs": [],
   "source": [
    "X, y = (proceedings_p2['speech'], \n",
    "        proceedings_p2['political_party'])\n",
    "X_train, X_test, y_train, y_test = train_test_split(X, y, \n",
    "                                                    test_size=0.25, \n",
    "                                                    random_state=33,\n",
    "                                                   shuffle=True)"
   ]
  },
  {
   "cell_type": "markdown",
   "metadata": {},
   "source": [
    "We implement a DummyClassifier for reference"
   ]
  },
  {
   "cell_type": "markdown",
   "metadata": {},
   "source": [
    "**Dummy Classifier**"
   ]
  },
  {
   "cell_type": "code",
   "execution_count": 15,
   "metadata": {},
   "outputs": [],
   "source": [
    "dummy_clf = Pipeline([('vect', CountVectorizer()),\n",
    "                    ('clf', \n",
    "                     DummyClassifier(strategy='most_frequent'))\n",
    "                    ])\n",
    "dummy_clf.fit(X_train, y_train)\n",
    "y_pred_dummy = dummy_clf.predict(X_test)"
   ]
  },
  {
   "cell_type": "code",
   "execution_count": 16,
   "metadata": {},
   "outputs": [
    {
     "data": {
      "text/plain": [
       "0.353110816368747"
      ]
     },
     "execution_count": 16,
     "metadata": {},
     "output_type": "execute_result"
    }
   ],
   "source": [
    "metrics.accuracy_score(y_test, y_pred_dummy)"
   ]
  },
  {
   "cell_type": "code",
   "execution_count": 17,
   "metadata": {},
   "outputs": [
    {
     "name": "stderr",
     "output_type": "stream",
     "text": [
      "C:\\Users\\artem\\Anaconda3\\envs\\tf\\lib\\site-packages\\sklearn\\metrics\\_classification.py:1221: UndefinedMetricWarning: Precision and F-score are ill-defined and being set to 0.0 in labels with no predicted samples. Use `zero_division` parameter to control this behavior.\n"
     ]
    },
    {
     "name": "stdout",
     "output_type": "stream",
     "text": [
      "                                                                                 precision    recall  f1-score   support\n",
      "\n",
      "                                                   ανεξαρτητοι (εκτος κομματος)       0.00      0.00      0.00      3747\n",
      "                                             ανεξαρτητοι δημοκρατικοι βουλευτες       0.00      0.00      0.00       247\n",
      "                                           ανεξαρτητοι ελληνες - πανος καμμενος       0.00      0.00      0.00      1879\n",
      "                     ανεξαρτητοι ελληνες εθνικη πατριωτικη δημοκρατικη συμμαχια       0.00      0.00      0.00       603\n",
      "                                                           δημοκρατικη αριστερα       0.00      0.00      0.00       592\n",
      "δημοκρατικη συμπαραταξη (πανελληνιο σοσιαλιστικο κινημα - δημοκρατικη αριστερα)       0.00      0.00      0.00      2602\n",
      "                                                   δημοκρατικο κοινωνικο κινημα       0.00      0.00      0.00       921\n",
      "                                                                 ενωση κεντρωων       0.00      0.00      0.00       943\n",
      "                                                    κομμουνιστικο κομμα ελλαδας       0.00      0.00      0.00      8894\n",
      "                                         κομμουνιστικο κομμα ελλαδας εσωτερικου       0.00      0.00      0.00        34\n",
      "                                                                  λαικη ενοτητα       0.00      0.00      0.00        37\n",
      "                                                    λαικος ορθοδοξος συναγερμος       0.00      0.00      0.00      3574\n",
      "                                                   λαικος συνδεσος - χρυση αυγη       0.00      0.00      0.00      1207\n",
      "                                                                 νεα δημοκρατια       0.00      0.00      0.00     57786\n",
      "        οικολογοι εναλλακτικοι (ομοσπονδια οικολογικων εναλλακτικων οργανωσεων)       0.00      0.00      0.00        71\n",
      "                                                 πανελληνιο σοσιαλιστικο κινημα       0.35      1.00      0.52     58038\n",
      "                                                                πολιτικη ανοιξη       0.00      0.00      0.00       451\n",
      "                                            συνασπισμος ριζοσπαστικης αριστερας       0.00      0.00      0.00     16982\n",
      "                     συνασπισμος της αριστερας των κινηματων και της οικολογιας       0.00      0.00      0.00      5156\n",
      "                                                                      το ποταμι       0.00      0.00      0.00       598\n",
      "\n",
      "                                                                       accuracy                           0.35    164362\n",
      "                                                                      macro avg       0.02      0.05      0.03    164362\n",
      "                                                                   weighted avg       0.12      0.35      0.18    164362\n",
      "\n"
     ]
    }
   ],
   "source": [
    "print(classification_report(y_test, y_pred_dummy))"
   ]
  },
  {
   "cell_type": "markdown",
   "metadata": {},
   "source": [
    "### Stochastic Gradient Descent Classification"
   ]
  },
  {
   "cell_type": "markdown",
   "metadata": {},
   "source": [
    "Grid search was not implemented due to lack of computational resourses. Different combinations of hyperparameters were tested to find the best result. We found that:\n",
    "* TFIDF transformer is not usefull,\n",
    "* Balancing with RandomOverSampler and RandomUnderSampler did not yield the desired results"
   ]
  },
  {
   "cell_type": "markdown",
   "metadata": {},
   "source": [
    "Independent of the grid search we found that the SDG Classifier works best without tfidf"
   ]
  },
  {
   "cell_type": "markdown",
   "metadata": {},
   "source": [
    "**SDG without TFIDF Transformer**"
   ]
  },
  {
   "cell_type": "code",
   "execution_count": 18,
   "metadata": {},
   "outputs": [],
   "source": [
    "clf = Pipeline([\n",
    "        ('vect', CountVectorizer()),\n",
    "        ('linear_model', \n",
    "         SGDClassifier(alpha=0.0001, random_state=42, loss = 'hinge'))\n",
    "    ])\n",
    "clf.fit(X_train, y_train)\n",
    "y_pred = clf.predict(X_test)"
   ]
  },
  {
   "cell_type": "code",
   "execution_count": 19,
   "metadata": {},
   "outputs": [
    {
     "data": {
      "text/plain": [
       "0.5226755576106399"
      ]
     },
     "execution_count": 19,
     "metadata": {},
     "output_type": "execute_result"
    }
   ],
   "source": [
    "metrics.accuracy_score(y_test, y_pred)"
   ]
  },
  {
   "cell_type": "code",
   "execution_count": 20,
   "metadata": {},
   "outputs": [
    {
     "name": "stderr",
     "output_type": "stream",
     "text": [
      "C:\\Users\\artem\\Anaconda3\\envs\\tf\\lib\\site-packages\\sklearn\\metrics\\_classification.py:1221: UndefinedMetricWarning: Recall and F-score are ill-defined and being set to 0.0 in labels with no true samples. Use `zero_division` parameter to control this behavior.\n"
     ]
    },
    {
     "name": "stdout",
     "output_type": "stream",
     "text": [
      "                                                                                 precision    recall  f1-score   support\n",
      "\n",
      "                                                   ανεξαρτητοι (εκτος κομματος)       0.24      0.04      0.07      3747\n",
      "                                             ανεξαρτητοι δημοκρατικοι βουλευτες       1.00      0.00      0.01       247\n",
      "                                           ανεξαρτητοι ελληνες - πανος καμμενος       0.39      0.11      0.18      1879\n",
      "                     ανεξαρτητοι ελληνες εθνικη πατριωτικη δημοκρατικη συμμαχια       0.54      0.21      0.30       603\n",
      "                                                           δημοκρατικη ανανεωση       0.00      0.00      0.00         0\n",
      "                                                           δημοκρατικη αριστερα       0.69      0.31      0.43       592\n",
      "δημοκρατικη συμπαραταξη (πανελληνιο σοσιαλιστικο κινημα - δημοκρατικη αριστερα)       0.42      0.20      0.27      2602\n",
      "                                                   δημοκρατικο κοινωνικο κινημα       0.49      0.35      0.41       921\n",
      "                                                                 ενωση κεντρωων       0.62      0.16      0.26       943\n",
      "                                                    κομμουνιστικο κομμα ελλαδας       0.68      0.41      0.51      8894\n",
      "                                         κομμουνιστικο κομμα ελλαδας εσωτερικου       0.62      0.15      0.24        34\n",
      "                                                                  λαικη ενοτητα       0.05      0.05      0.05        37\n",
      "                                                    λαικος ορθοδοξος συναγερμος       0.58      0.23      0.33      3574\n",
      "                                                   λαικος συνδεσος - χρυση αυγη       0.90      0.40      0.56      1207\n",
      "                                                                 νεα δημοκρατια       0.51      0.70      0.59     57786\n",
      "        οικολογοι εναλλακτικοι (ομοσπονδια οικολογικων εναλλακτικων οργανωσεων)       0.36      0.18      0.24        71\n",
      "                                                 πανελληνιο σοσιαλιστικο κινημα       0.54      0.52      0.53     58038\n",
      "                                                                πολιτικη ανοιξη       0.54      0.08      0.14       451\n",
      "                                            συνασπισμος ριζοσπαστικης αριστερας       0.46      0.44      0.45     16982\n",
      "                     συνασπισμος της αριστερας των κινηματων και της οικολογιας       0.61      0.16      0.25      5156\n",
      "                                                                      το ποταμι       0.45      0.04      0.07       598\n",
      "\n",
      "                                                                       accuracy                           0.52    164362\n",
      "                                                                      macro avg       0.51      0.23      0.28    164362\n",
      "                                                                   weighted avg       0.53      0.52      0.50    164362\n",
      "\n"
     ]
    }
   ],
   "source": [
    "print(classification_report(y_test, y_pred))"
   ]
  },
  {
   "cell_type": "markdown",
   "metadata": {},
   "source": [
    "TFIDF yields sloghtly worse scores than a simple CountVectorizer. "
   ]
  },
  {
   "cell_type": "markdown",
   "metadata": {},
   "source": [
    "**SDG with TFIDF Transformer**"
   ]
  },
  {
   "cell_type": "code",
   "execution_count": 21,
   "metadata": {},
   "outputs": [
    {
     "data": {
      "text/plain": [
       "0.5178995144863168"
      ]
     },
     "execution_count": 21,
     "metadata": {},
     "output_type": "execute_result"
    }
   ],
   "source": [
    "clf = Pipeline([\n",
    "        ('vect', CountVectorizer()),\n",
    "        ('tfidf', TfidfTransformer()),\n",
    "        ('linear_model', \n",
    "         SGDClassifier(alpha=0.0001, random_state=42, loss = 'hinge'))\n",
    "    ])\n",
    "clf.fit(X_train, y_train)\n",
    "y_pred = clf.predict(X_test)\n",
    "metrics.accuracy_score(y_test, y_pred)"
   ]
  },
  {
   "cell_type": "code",
   "execution_count": 22,
   "metadata": {},
   "outputs": [
    {
     "name": "stdout",
     "output_type": "stream",
     "text": [
      "                                                                                 precision    recall  f1-score   support\n",
      "\n",
      "                                                   ανεξαρτητοι (εκτος κομματος)       0.10      0.01      0.02      3747\n",
      "                                             ανεξαρτητοι δημοκρατικοι βουλευτες       0.02      0.01      0.01       247\n",
      "                                           ανεξαρτητοι ελληνες - πανος καμμενος       0.28      0.03      0.05      1879\n",
      "                     ανεξαρτητοι ελληνες εθνικη πατριωτικη δημοκρατικη συμμαχια       0.32      0.06      0.10       603\n",
      "                                                           δημοκρατικη ανανεωση       0.00      0.00      0.00         0\n",
      "                                                           δημοκρατικη αριστερα       0.41      0.11      0.18       592\n",
      "δημοκρατικη συμπαραταξη (πανελληνιο σοσιαλιστικο κινημα - δημοκρατικη αριστερα)       0.25      0.12      0.16      2602\n",
      "                                                   δημοκρατικο κοινωνικο κινημα       0.32      0.03      0.05       921\n",
      "                                                                 ενωση κεντρωων       0.42      0.14      0.22       943\n",
      "                                                    κομμουνιστικο κομμα ελλαδας       0.52      0.41      0.46      8894\n",
      "                                         κομμουνιστικο κομμα ελλαδας εσωτερικου       0.00      0.00      0.00        34\n",
      "                                                                  λαικη ενοτητα       0.00      0.00      0.00        37\n",
      "                                                    λαικος ορθοδοξος συναγερμος       0.50      0.14      0.22      3574\n",
      "                                                   λαικος συνδεσος - χρυση αυγη       0.56      0.44      0.50      1207\n",
      "                                                                 νεα δημοκρατια       0.52      0.62      0.57     57786\n",
      "        οικολογοι εναλλακτικοι (ομοσπονδια οικολογικων εναλλακτικων οργανωσεων)       0.00      0.00      0.00        71\n",
      "                                                 πανελληνιο σοσιαλιστικο κινημα       0.53      0.67      0.59     58038\n",
      "                                                                πολιτικη ανοιξη       0.05      0.00      0.01       451\n",
      "                                            συνασπισμος ριζοσπαστικης αριστερας       0.49      0.27      0.35     16982\n",
      "                     συνασπισμος της αριστερας των κινηματων και της οικολογιας       0.32      0.03      0.06      5156\n",
      "                                                                      το ποταμι       0.16      0.06      0.09       598\n",
      "\n",
      "                                                                       accuracy                           0.52    164362\n",
      "                                                                      macro avg       0.27      0.15      0.17    164362\n",
      "                                                                   weighted avg       0.49      0.52      0.49    164362\n",
      "\n"
     ]
    }
   ],
   "source": [
    "print(classification_report(y_test, y_pred))"
   ]
  },
  {
   "cell_type": "markdown",
   "metadata": {},
   "source": [
    "Seeing as our dataset is unbalanced we will try to balance it. We use two different approaches (RandomOverSampler, RandomUnderSampler) but neither yield good results. It is possible that SMOTE could have provided better results but is not attemted here."
   ]
  },
  {
   "cell_type": "markdown",
   "metadata": {},
   "source": [
    "**RandomOverSampler**"
   ]
  },
  {
   "cell_type": "code",
   "execution_count": 23,
   "metadata": {},
   "outputs": [],
   "source": [
    "imb_sgd= make_pipeline_imb(CountVectorizer(),\n",
    "                           RandomOverSampler(),\n",
    "                           SGDClassifier(alpha=0.0001, random_state=42, loss = 'hinge'))\n",
    "\n",
    "imb_sgd.fit(X_train, y_train)\n",
    "y_pred_over = imb_sgd.predict(X_test)"
   ]
  },
  {
   "cell_type": "code",
   "execution_count": 24,
   "metadata": {},
   "outputs": [
    {
     "data": {
      "text/plain": [
       "0.37745342597437365"
      ]
     },
     "execution_count": 24,
     "metadata": {},
     "output_type": "execute_result"
    }
   ],
   "source": [
    "metrics.accuracy_score(y_test, y_pred_over)"
   ]
  },
  {
   "cell_type": "markdown",
   "metadata": {},
   "source": [
    "The accuracy is very similar to that of the DummyClassifier, therefore the algorith is rejected"
   ]
  },
  {
   "cell_type": "markdown",
   "metadata": {},
   "source": [
    "**RandomUnderSampler**"
   ]
  },
  {
   "cell_type": "code",
   "execution_count": 34,
   "metadata": {},
   "outputs": [],
   "source": [
    "imb_sgd_u= make_pipeline_imb(CountVectorizer(),\n",
    "                           RandomUnderSampler(),\n",
    "                           SGDClassifier(alpha=0.0001, random_state=42, loss = 'hinge'))\n",
    "\n",
    "imb_sgd_u.fit(X_train, y_train)\n",
    "y_pred_under = imb_sgd_u.predict(X_test)"
   ]
  },
  {
   "cell_type": "code",
   "execution_count": 36,
   "metadata": {},
   "outputs": [
    {
     "data": {
      "text/plain": [
       "0.0639624730777187"
      ]
     },
     "execution_count": 36,
     "metadata": {},
     "output_type": "execute_result"
    }
   ],
   "source": [
    "metrics.accuracy_score(y_test, y_pred_under)"
   ]
  },
  {
   "cell_type": "markdown",
   "metadata": {},
   "source": [
    "The accuracy is very lower than that of the DummyClassifier, therefore the algorith is rejected"
   ]
  },
  {
   "cell_type": "markdown",
   "metadata": {},
   "source": [
    "We see that some parties have very small support (under 300). We go ahead and remove them. This should also handle the zero-division warning we were getting."
   ]
  },
  {
   "cell_type": "code",
   "execution_count": 37,
   "metadata": {},
   "outputs": [],
   "source": [
    "proceedings_p2 = proceedings_p2.drop(proceedings[proceedings.political_party == 'οικολογοι εναλλακτικοι (ομοσπονδια οικολογικων εναλλακτικων οργανωσεων)'].index)\n",
    "proceedings_p2 = proceedings_p2.drop(proceedings[proceedings.political_party == 'λαικη ενοτητα'].index)\n",
    "proceedings_p2 = proceedings_p2.drop(proceedings[proceedings.political_party == 'κομμουνιστικο κομμα ελλαδας εσωτερικου'].index)\n",
    "proceedings_p2 = proceedings_p2.drop(proceedings[proceedings.political_party == 'δημοκρατικη ανανεωση'].index)\n",
    "proceedings_p2 = proceedings_p2.drop(proceedings[proceedings.political_party == 'ανεξαρτητοι δημοκρατικοι βουλευτες'].index)"
   ]
  },
  {
   "cell_type": "markdown",
   "metadata": {},
   "source": [
    "We will split the dataset again and re-implement the SGD model without tfidf transformer"
   ]
  },
  {
   "cell_type": "code",
   "execution_count": 38,
   "metadata": {},
   "outputs": [],
   "source": [
    "X, y = (proceedings_p2['speech'], \n",
    "        proceedings_p2['political_party'])\n",
    "X_train, X_test, y_train, y_test = train_test_split(X, y, \n",
    "                                                    test_size=0.25, \n",
    "                                                    random_state=33,\n",
    "                                                   shuffle=True)"
   ]
  },
  {
   "cell_type": "markdown",
   "metadata": {},
   "source": [
    "We will implement our best algorith on this new dataset."
   ]
  },
  {
   "cell_type": "markdown",
   "metadata": {},
   "source": [
    "**SDG without TFIDF Transformer, less parties**"
   ]
  },
  {
   "cell_type": "code",
   "execution_count": 39,
   "metadata": {},
   "outputs": [],
   "source": [
    "clf = Pipeline([\n",
    "        ('vect', CountVectorizer()),\n",
    "        ('linear_model', \n",
    "         SGDClassifier(alpha=0.0001, random_state=42, loss = 'hinge'))\n",
    "    ])\n",
    "clf.fit(X_train, y_train)\n",
    "y_pred = clf.predict(X_test)"
   ]
  },
  {
   "cell_type": "code",
   "execution_count": 40,
   "metadata": {},
   "outputs": [
    {
     "data": {
      "text/plain": [
       "0.5459429791126696"
      ]
     },
     "execution_count": 40,
     "metadata": {},
     "output_type": "execute_result"
    }
   ],
   "source": [
    "metrics.accuracy_score(y_test, y_pred)"
   ]
  },
  {
   "cell_type": "code",
   "execution_count": 41,
   "metadata": {},
   "outputs": [
    {
     "name": "stdout",
     "output_type": "stream",
     "text": [
      "                                                                                 precision    recall  f1-score   support\n",
      "\n",
      "                                                   ανεξαρτητοι (εκτος κομματος)       0.24      0.05      0.09      3666\n",
      "                                           ανεξαρτητοι ελληνες - πανος καμμενος       0.50      0.07      0.12      1923\n",
      "                     ανεξαρτητοι ελληνες εθνικη πατριωτικη δημοκρατικη συμμαχια       0.67      0.07      0.13       620\n",
      "                                                           δημοκρατικη αριστερα       0.35      0.42      0.39       611\n",
      "δημοκρατικη συμπαραταξη (πανελληνιο σοσιαλιστικο κινημα - δημοκρατικη αριστερα)       0.43      0.20      0.27      2544\n",
      "                                                   δημοκρατικο κοινωνικο κινημα       0.90      0.22      0.35       998\n",
      "                                                                 ενωση κεντρωων       0.79      0.14      0.23       932\n",
      "                                                    κομμουνιστικο κομμα ελλαδας       0.87      0.24      0.38      8881\n",
      "                                                    λαικος ορθοδοξος συναγερμος       0.67      0.15      0.25      3585\n",
      "                                                   λαικος συνδεσος - χρυση αυγη       0.81      0.44      0.57      1216\n",
      "                                                                 νεα δημοκρατια       0.53      0.68      0.59     57693\n",
      "                                                 πανελληνιο σοσιαλιστικο κινημα       0.55      0.68      0.61     58109\n",
      "                                                                πολιτικη ανοιξη       0.43      0.14      0.21       451\n",
      "                                            συνασπισμος ριζοσπαστικης αριστερας       0.57      0.32      0.41     16935\n",
      "                     συνασπισμος της αριστερας των κινηματων και της οικολογιας       0.59      0.19      0.28      5163\n",
      "                                                                      το ποταμι       0.44      0.18      0.25       648\n",
      "\n",
      "                                                                       accuracy                           0.55    163975\n",
      "                                                                      macro avg       0.58      0.26      0.32    163975\n",
      "                                                                   weighted avg       0.56      0.55      0.52    163975\n",
      "\n"
     ]
    }
   ],
   "source": [
    "print(classification_report(y_test, y_pred))"
   ]
  },
  {
   "cell_type": "markdown",
   "metadata": {},
   "source": [
    "Even thought the accuracy is not great, it is **57% grater than that of the dummy classifier**. Therefore we can say that the model is satisfying enough."
   ]
  },
  {
   "cell_type": "markdown",
   "metadata": {},
   "source": [
    "Going forward we assume that the preprocessing is suitable for the other two algorithms and that over and under sampling is not useful. We also keep the 5 parties with small support out of our analysis (very few speeches are produced by them either way)."
   ]
  },
  {
   "cell_type": "markdown",
   "metadata": {},
   "source": [
    "### Decision Tree Classification"
   ]
  },
  {
   "cell_type": "markdown",
   "metadata": {},
   "source": [
    "We perform a grid search in order to determine the most appropriate hyperparameters. <br>\n",
    "Unfortunately, due to limited computational resources, we searched for a small number of parameters and used a subset of 300,000 records."
   ]
  },
  {
   "cell_type": "code",
   "execution_count": 4,
   "metadata": {
    "id": "817dr7moWAxC"
   },
   "outputs": [],
   "source": [
    "proceedings_p2 = proceedings_p2.tail(300000)"
   ]
  },
  {
   "cell_type": "code",
   "execution_count": 5,
   "metadata": {
    "id": "6bJ7uhQrWEcF"
   },
   "outputs": [],
   "source": [
    "X1, y1 = (proceedings_p2['speech'], \n",
    "        proceedings_p2['political_party'])\n",
    "X_train1, X_test1, y_train1, y_test1 = train_test_split(X1, y1, \n",
    "                                                    test_size=0.25, \n",
    "                                                    random_state=33,\n",
    "                                                   shuffle=True)"
   ]
  },
  {
   "cell_type": "code",
   "execution_count": 6,
   "metadata": {
    "colab": {
     "base_uri": "https://localhost:8080/"
    },
    "id": "6NOJhidEWGxg",
    "outputId": "f210d8ae-4b81-40e5-a1fe-4582687d7447"
   },
   "outputs": [
    {
     "name": "stdout",
     "output_type": "stream",
     "text": [
      "Pipeline(memory=None,\n",
      "         steps=[('vect',\n",
      "                 CountVectorizer(analyzer='word', binary=False,\n",
      "                                 decode_error='strict',\n",
      "                                 dtype=<class 'numpy.int64'>, encoding='utf-8',\n",
      "                                 input='content', lowercase=True, max_df=1.0,\n",
      "                                 max_features=None, min_df=1,\n",
      "                                 ngram_range=(1, 1), preprocessor=None,\n",
      "                                 stop_words=None, strip_accents=None,\n",
      "                                 token_pattern='(?u)\\\\b\\\\w\\\\w+\\\\b',\n",
      "                                 tokenizer=None, vocabulary=Non...\n",
      "                                  sublinear_tf=False, use_idf=False)),\n",
      "                ('model',\n",
      "                 DecisionTreeClassifier(ccp_alpha=0.0, class_weight=None,\n",
      "                                        criterion='gini', max_depth=14,\n",
      "                                        max_features=None, max_leaf_nodes=None,\n",
      "                                        min_impurity_decrease=0.0,\n",
      "                                        min_impurity_split=None,\n",
      "                                        min_samples_leaf=1, min_samples_split=2,\n",
      "                                        min_weight_fraction_leaf=0.0,\n",
      "                                        presort='deprecated', random_state=42,\n",
      "                                        splitter='best'))],\n",
      "         verbose=False)\n"
     ]
    }
   ],
   "source": [
    "clf_tree = Pipeline([\n",
    "        ('vect', CountVectorizer()),\n",
    "        ('tfidf', TfidfTransformer()),\n",
    "        ('model', \n",
    "         DecisionTreeClassifier(random_state=42))\n",
    "    ])\n",
    "clf_tree.fit(X_train1, y_train1)\n",
    "parameters = [\n",
    "  {'model__max_depth': list(range(12, 15)),\n",
    "   'model__criterion': ['entropy', 'gini'],\n",
    "   'tfidf__use_idf':  (True, False)\n",
    "  }]\n",
    "\n",
    "cv = KFold(n_splits=3, shuffle=True, random_state=13)\n",
    "grid_clf = GridSearchCV(clf_tree, parameters, cv=cv)\n",
    "\n",
    "grid_clf = grid_clf.fit(X_train1, y_train1)\n",
    "print(grid_clf.best_estimator_)"
   ]
  },
  {
   "cell_type": "markdown",
   "metadata": {},
   "source": [
    "Using criterion = 'gini', max depth 14 and no tfidf transformer, as shown by the grid search, we get the following results"
   ]
  },
  {
   "cell_type": "code",
   "execution_count": 9,
   "metadata": {},
   "outputs": [],
   "source": [
    "clf_tree = Pipeline([\n",
    "        ('vect', CountVectorizer()),\n",
    "        ('model', \n",
    "         DecisionTreeClassifier(random_state=42, max_depth = 14, criterion = 'gini'))\n",
    "    ])\n",
    "clf_tree.fit(X_train, y_train)\n",
    "y_pred = clf_tree.predict(X_test)"
   ]
  },
  {
   "cell_type": "code",
   "execution_count": 10,
   "metadata": {
    "scrolled": true
   },
   "outputs": [
    {
     "data": {
      "text/plain": [
       "0.42327184021954567"
      ]
     },
     "execution_count": 10,
     "metadata": {},
     "output_type": "execute_result"
    }
   ],
   "source": [
    "metrics.accuracy_score(y_test, y_pred)"
   ]
  },
  {
   "cell_type": "code",
   "execution_count": 11,
   "metadata": {},
   "outputs": [
    {
     "name": "stderr",
     "output_type": "stream",
     "text": [
      "C:\\Users\\Kelly\\anaconda3\\lib\\site-packages\\sklearn\\metrics\\_classification.py:1221: UndefinedMetricWarning: Precision and F-score are ill-defined and being set to 0.0 in labels with no predicted samples. Use `zero_division` parameter to control this behavior.\n",
      "  _warn_prf(average, modifier, msg_start, len(result))\n"
     ]
    },
    {
     "name": "stdout",
     "output_type": "stream",
     "text": [
      "                                                                                 precision    recall  f1-score   support\n",
      "\n",
      "                                                   ανεξαρτητοι (εκτος κομματος)       0.49      0.04      0.08      3666\n",
      "                                           ανεξαρτητοι ελληνες - πανος καμμενος       0.44      0.04      0.07      1923\n",
      "                     ανεξαρτητοι ελληνες εθνικη πατριωτικη δημοκρατικη συμμαχια       0.41      0.06      0.11       620\n",
      "                                                           δημοκρατικη αριστερα       0.63      0.08      0.14       611\n",
      "δημοκρατικη συμπαραταξη (πανελληνιο σοσιαλιστικο κινημα - δημοκρατικη αριστερα)       0.47      0.10      0.16      2544\n",
      "                                                   δημοκρατικο κοινωνικο κινημα       0.71      0.01      0.02       998\n",
      "                                                                 ενωση κεντρωων       0.50      0.15      0.23       932\n",
      "                                                    κομμουνιστικο κομμα ελλαδας       0.64      0.18      0.28      8881\n",
      "                                                    λαικος ορθοδοξος συναγερμος       0.60      0.07      0.13      3585\n",
      "                                                   λαικος συνδεσος - χρυση αυγη       0.76      0.25      0.38      1216\n",
      "                                                                 νεα δημοκρατια       0.46      0.26      0.34     57693\n",
      "                                                 πανελληνιο σοσιαλιστικο κινημα       0.40      0.82      0.54     58109\n",
      "                                                                πολιτικη ανοιξη       0.00      0.00      0.00       451\n",
      "                                            συνασπισμος ριζοσπαστικης αριστερας       0.44      0.21      0.28     16935\n",
      "                     συνασπισμος της αριστερας των κινηματων και της οικολογιας       0.41      0.03      0.05      5163\n",
      "                                                                      το ποταμι       0.20      0.01      0.01       648\n",
      "\n",
      "                                                                       accuracy                           0.42    163975\n",
      "                                                                      macro avg       0.47      0.14      0.18    163975\n",
      "                                                                   weighted avg       0.45      0.42      0.37    163975\n",
      "\n"
     ]
    }
   ],
   "source": [
    "print(classification_report(y_test, y_pred))"
   ]
  },
  {
   "cell_type": "markdown",
   "metadata": {},
   "source": [
    "To compare, we also used a classifier with criterion = entropy and a tfidf transformer. Accuracy was very slightly worse. "
   ]
  },
  {
   "cell_type": "code",
   "execution_count": 30,
   "metadata": {
    "colab": {
     "base_uri": "https://localhost:8080/"
    },
    "id": "waiting-worry",
    "outputId": "3e018b3d-0190-4164-b92c-96e306b0085f"
   },
   "outputs": [
    {
     "data": {
      "text/plain": [
       "0.42257051379783506"
      ]
     },
     "execution_count": 30,
     "metadata": {
      "tags": []
     },
     "output_type": "execute_result"
    }
   ],
   "source": [
    "clf_for = Pipeline([\n",
    "        ('vect', CountVectorizer()),\n",
    "        ('tfidf', TfidfTransformer()),\n",
    "        ('model', \n",
    "         DecisionTreeClassifier(criterion = 'entropy', max_depth = 14, random_state=42))\n",
    "    ])\n",
    "clf_for.fit(X_train, y_train)\n",
    "y_pred = clf_for.predict(X_test)\n",
    "metrics.accuracy_score(y_test, y_pred)"
   ]
  },
  {
   "cell_type": "code",
   "execution_count": 33,
   "metadata": {
    "colab": {
     "base_uri": "https://localhost:8080/"
    },
    "id": "ECqX1g_GpYKU",
    "outputId": "dc0fc766-563d-4e14-ddb4-9546202ed7b6"
   },
   "outputs": [
    {
     "name": "stdout",
     "output_type": "stream",
     "text": [
      "                                                                                 precision    recall  f1-score   support\n",
      "\n",
      "                                                   ανεξαρτητοι (εκτος κομματος)       0.40      0.04      0.07      3666\n",
      "                                           ανεξαρτητοι ελληνες - πανος καμμενος       0.38      0.05      0.09      1923\n",
      "                     ανεξαρτητοι ελληνες εθνικη πατριωτικη δημοκρατικη συμμαχια       0.36      0.10      0.15       620\n",
      "                                                           δημοκρατικη αριστερα       0.64      0.08      0.15       611\n",
      "δημοκρατικη συμπαραταξη (πανελληνιο σοσιαλιστικο κινημα - δημοκρατικη αριστερα)       0.51      0.09      0.16      2544\n",
      "                                                   δημοκρατικο κοινωνικο κινημα       0.70      0.02      0.03       998\n",
      "                                                                 ενωση κεντρωων       0.53      0.17      0.25       932\n",
      "                                                    κομμουνιστικο κομμα ελλαδας       0.56      0.19      0.29      8881\n",
      "                                                    λαικος ορθοδοξος συναγερμος       0.47      0.09      0.15      3585\n",
      "                                                   λαικος συνδεσος - χρυση αυγη       0.70      0.29      0.40      1216\n",
      "                                                                 νεα δημοκρατια       0.44      0.32      0.37     57693\n",
      "                                                 πανελληνιο σοσιαλιστικο κινημα       0.41      0.77      0.54     58109\n",
      "                                                                πολιτικη ανοιξη       0.31      0.01      0.02       451\n",
      "                                            συνασπισμος ριζοσπαστικης αριστερας       0.43      0.19      0.26     16935\n",
      "                     συνασπισμος της αριστερας των κινηματων και της οικολογιας       0.44      0.04      0.07      5163\n",
      "                                                                      το ποταμι       0.28      0.04      0.08       648\n",
      "\n",
      "                                                                       accuracy                           0.43    163975\n",
      "                                                                      macro avg       0.47      0.16      0.19    163975\n",
      "                                                                   weighted avg       0.44      0.43      0.38    163975\n",
      "\n"
     ]
    }
   ],
   "source": [
    "print(classification_report(y_test, y_pred))"
   ]
  },
  {
   "cell_type": "markdown",
   "metadata": {},
   "source": [
    "Accuracy is **22%** lower than that of the SDG Classifier and **20%** greater than that of the DummyClassifier"
   ]
  },
  {
   "cell_type": "markdown",
   "metadata": {},
   "source": [
    "Thinking that a RamdomForest would improve the results we also implemented that. Indeed we see a very small increase in accuracy."
   ]
  },
  {
   "cell_type": "markdown",
   "metadata": {},
   "source": [
    "### Random Forest Classifier"
   ]
  },
  {
   "cell_type": "markdown",
   "metadata": {},
   "source": [
    "We implemented a Random Forest with 500 estimators, max depth 14 and without tfidf. We tried both gini and entropy criterion, with gini yielding the best results. Should we had run a grid search and chosen more appropriate hyperparameters the results may have been better."
   ]
  },
  {
   "cell_type": "markdown",
   "metadata": {},
   "source": [
    "**Random Forest, criterion = gini**"
   ]
  },
  {
   "cell_type": "code",
   "execution_count": 16,
   "metadata": {
    "scrolled": true
   },
   "outputs": [
    {
     "name": "stderr",
     "output_type": "stream",
     "text": [
      "C:\\Users\\Kelly\\anaconda3\\lib\\site-packages\\sklearn\\metrics\\_classification.py:1221: UndefinedMetricWarning: Precision and F-score are ill-defined and being set to 0.0 in labels with no predicted samples. Use `zero_division` parameter to control this behavior.\n",
      "  _warn_prf(average, modifier, msg_start, len(result))\n"
     ]
    },
    {
     "name": "stdout",
     "output_type": "stream",
     "text": [
      "                                                                                 precision    recall  f1-score   support\n",
      "\n",
      "                                                   ανεξαρτητοι (εκτος κομματος)       0.00      0.00      0.00      3666\n",
      "                                           ανεξαρτητοι ελληνες - πανος καμμενος       0.00      0.00      0.00      1923\n",
      "                     ανεξαρτητοι ελληνες εθνικη πατριωτικη δημοκρατικη συμμαχια       0.00      0.00      0.00       620\n",
      "                                                           δημοκρατικη αριστερα       0.00      0.00      0.00       611\n",
      "δημοκρατικη συμπαραταξη (πανελληνιο σοσιαλιστικο κινημα - δημοκρατικη αριστερα)       0.00      0.00      0.00      2544\n",
      "                                                   δημοκρατικο κοινωνικο κινημα       0.00      0.00      0.00       998\n",
      "                                                                 ενωση κεντρωων       0.00      0.00      0.00       932\n",
      "                                                    κομμουνιστικο κομμα ελλαδας       0.99      0.04      0.08      8881\n",
      "                                                    λαικος ορθοδοξος συναγερμος       0.00      0.00      0.00      3585\n",
      "                                                   λαικος συνδεσος - χρυση αυγη       0.00      0.00      0.00      1216\n",
      "                                                                 νεα δημοκρατια       0.42      0.60      0.50     57693\n",
      "                                                 πανελληνιο σοσιαλιστικο κινημα       0.43      0.61      0.50     58109\n",
      "                                                                πολιτικη ανοιξη       0.00      0.00      0.00       451\n",
      "                                            συνασπισμος ριζοσπαστικης αριστερας       0.00      0.00      0.00     16935\n",
      "                     συνασπισμος της αριστερας των κινηματων και της οικολογιας       0.00      0.00      0.00      5163\n",
      "                                                                      το ποταμι       0.00      0.00      0.00       648\n",
      "\n",
      "                                                                       accuracy                           0.43    163975\n",
      "                                                                      macro avg       0.12      0.08      0.07    163975\n",
      "                                                                   weighted avg       0.35      0.43      0.36    163975\n",
      "\n"
     ]
    }
   ],
   "source": [
    "clf_forest = Pipeline([\n",
    "        ('vect', CountVectorizer()),\n",
    "        ('model', \n",
    "         RandomForestClassifier(n_estimators = 500, random_state=42, max_depth = 14, criterion = 'gini'))\n",
    "    ])\n",
    "\n",
    "print(classification_report(y_test, y_pred))\n",
    "clf_forest.fit(X_train, y_train)\n",
    "y_pred = clf_forest.predict(X_test)"
   ]
  },
  {
   "cell_type": "code",
   "execution_count": 17,
   "metadata": {},
   "outputs": [
    {
     "data": {
      "text/plain": [
       "0.4402073486812014"
      ]
     },
     "execution_count": 17,
     "metadata": {},
     "output_type": "execute_result"
    }
   ],
   "source": [
    "metrics.accuracy_score(y_test, y_pred)"
   ]
  },
  {
   "cell_type": "markdown",
   "metadata": {},
   "source": [
    "**Random Forest, entropy**"
   ]
  },
  {
   "cell_type": "code",
   "execution_count": 37,
   "metadata": {
    "colab": {
     "base_uri": "https://localhost:8080/"
    },
    "id": "4DHrnuC25j3B",
    "outputId": "c681297a-6133-4703-d8e5-d49d24222748"
   },
   "outputs": [
    {
     "data": {
      "text/plain": [
       "0.42308888550083856"
      ]
     },
     "execution_count": 37,
     "metadata": {
      "tags": []
     },
     "output_type": "execute_result"
    }
   ],
   "source": [
    ">>> from sklearn.ensemble import RandomForestClassifier\n",
    "clf_for = Pipeline([\n",
    "        ('vect', CountVectorizer()),\n",
    "        ('model', \n",
    "         RandomForestClassifier(n_estimators = 500, criterion = 'entropy', max_depth = 14, random_state=42))\n",
    "    ])\n",
    "clf_for.fit(X_train, y_train)\n",
    "y_pred = clf_for.predict(X_test)\n",
    "metrics.accuracy_score(y_test, y_pred)"
   ]
  },
  {
   "cell_type": "markdown",
   "metadata": {},
   "source": [
    "As we said, the best scores were produced using the RandomForestClassifier, with criterion='gini'. Specifically accuraccy is **25%** greater than that of the dummy classifier. However the SDG algorithm surpasses it by about **18%**."
   ]
  },
  {
   "cell_type": "markdown",
   "metadata": {},
   "source": [
    "### Support Vector Machines - not implemented"
   ]
  },
  {
   "cell_type": "code",
   "execution_count": null,
   "metadata": {},
   "outputs": [],
   "source": [
    "svm_clf = Pipeline([\n",
    "        ('vect', CountVectorizer()),\n",
    "        ('tfidf', TfidfTransformer()),\n",
    "        ('model', \n",
    "         svm.SVC())\n",
    "    ])\n",
    "clf.fit(X_train, y_train)\n",
    "param_grid = {'model__C': [1e3, 5e3, 1e4, 5e4],\n",
    "              'model__gamma': [0.0001, 0.001, 0.01],\n",
    "              'model__kernel': ['linear', 'rdf'],\n",
    "              'tfidf__use_idf': (True, False)}\n",
    "gr_svm_clf = GridSearchCV(svm_clf, param_grid, cv=3)\n",
    "gr_svm_clf = gr_svm_clf.fit(X_train, y_train)\n",
    "gr_svm_clf.best_estimator_"
   ]
  },
  {
   "cell_type": "code",
   "execution_count": null,
   "metadata": {},
   "outputs": [],
   "source": [
    "best_result = gr_svm_clf.best_score_\n",
    "print(best_result)\n",
    "print(classification_report(y_test, gr_svm_clf.best_estimator_.predict(X_test)))"
   ]
  },
  {
   "cell_type": "markdown",
   "metadata": {},
   "source": [
    "## Part 3: Neural Networks"
   ]
  },
  {
   "cell_type": "markdown",
   "metadata": {},
   "source": [
    "Necessary imports"
   ]
  },
  {
   "cell_type": "code",
   "execution_count": 1,
   "metadata": {
    "id": "kX4-apSICZOO"
   },
   "outputs": [],
   "source": [
    "import pandas as pd\n",
    "import numpy as np\n",
    "import tensorflow as tf\n",
    "\n",
    "from datetime import datetime\n",
    "from tensorflow.keras import Model, Sequential\n",
    "from tensorflow.keras.layers import Activation, Dense, Embedding, GlobalAveragePooling1D\n",
    "from tensorflow.keras.layers.experimental.preprocessing import TextVectorization\n",
    "from tensorflow.keras.callbacks import EarlyStopping\n",
    "\n",
    "from sklearn.model_selection import train_test_split\n",
    "from sklearn import preprocessing\n",
    "le = preprocessing.LabelEncoder()\n",
    "\n",
    "import re\n",
    "import string"
   ]
  },
  {
   "cell_type": "code",
   "execution_count": 2,
   "metadata": {
    "id": "r7oqV0HmI0mW"
   },
   "outputs": [],
   "source": []
  },
  {
   "cell_type": "markdown",
   "metadata": {},
   "source": [
    "We use the standardized clean dataset from **Part 2**, selecting speeches with more than 100 words. Following that, we select a subset of the 200,000 most recent speeches (due to lack of computational resources)"
   ]
  },
  {
   "cell_type": "code",
   "execution_count": null,
   "metadata": {},
   "outputs": [],
   "source": [
    "proceedings_p3_100 = proceedings_p2[~proceedings['speech'].str.split().str.len().lt(100)]"
   ]
  },
  {
   "cell_type": "code",
   "execution_count": 9,
   "metadata": {
    "id": "E0jSrCbBGZm4"
   },
   "outputs": [],
   "source": [
    "proceedings_p3_100 = proceedings_p3_100.tail(200000)"
   ]
  },
  {
   "cell_type": "markdown",
   "metadata": {},
   "source": [
    "We create a column *label* that maps the political parties to integers"
   ]
  },
  {
   "cell_type": "code",
   "execution_count": 10,
   "metadata": {
    "id": "4_fUsOya-rMG"
   },
   "outputs": [],
   "source": [
    "proceedings_p3_100['label'] = le.fit_transform(proceedings_p3_100.political_party)"
   ]
  },
  {
   "cell_type": "markdown",
   "metadata": {},
   "source": [
    "We have 15 unique parties with their respective labels. "
   ]
  },
  {
   "cell_type": "code",
   "execution_count": 11,
   "metadata": {
    "colab": {
     "base_uri": "https://localhost:8080/"
    },
    "id": "K4MwDLkgHqUV",
    "outputId": "3c65ddd8-bc00-4b06-9fce-c7d1072b183e"
   },
   "outputs": [
    {
     "data": {
      "text/plain": [
       "15"
      ]
     },
     "execution_count": 11,
     "metadata": {
      "tags": []
     },
     "output_type": "execute_result"
    }
   ],
   "source": [
    "proceedings_p3_100.political_party.nunique()"
   ]
  },
  {
   "cell_type": "code",
   "execution_count": 12,
   "metadata": {
    "colab": {
     "base_uri": "https://localhost:8080/"
    },
    "id": "zungMKhtMBDa",
    "outputId": "b337d04a-4294-440f-d931-da5cf03651bc"
   },
   "outputs": [
    {
     "data": {
      "text/plain": [
       "15"
      ]
     },
     "execution_count": 12,
     "metadata": {
      "tags": []
     },
     "output_type": "execute_result"
    }
   ],
   "source": [
    "proceedings_p3_100.label.nunique()"
   ]
  },
  {
   "cell_type": "markdown",
   "metadata": {},
   "source": [
    "We go ahead and split the dataset as shown below:\n",
    "* 25% test\n",
    "* 60% training\n",
    "* 15% validation "
   ]
  },
  {
   "cell_type": "code",
   "execution_count": null,
   "metadata": {},
   "outputs": [],
   "source": [
    "X,y = proceedings_p3_100.speech.values, proceedings_p3_100.label.values,\n",
    "train, test, train_lables, test_lables = train_test_split( X, y, test_size=0.25, random_state=42)\n",
    "train, val, train_lables, val_lables = train_test_split( train, train_lables, test_size=0.2, random_state=42))"
   ]
  },
  {
   "cell_type": "code",
   "execution_count": 30,
   "metadata": {
    "colab": {
     "base_uri": "https://localhost:8080/"
    },
    "id": "FJKVK-hynH8A",
    "outputId": "5861a9d4-30a8-409d-c86c-e03e0af445e7"
   },
   "outputs": [
    {
     "name": "stdout",
     "output_type": "stream",
     "text": [
      "train shape:  (120000,)  labels shape:  (120000,)\n",
      "validation shape:  (30000,)  labels shape:  (30000,)\n",
      "test shape:  (50000,)  labels shape:  (50000,)\n"
     ]
    }
   ],
   "source": [
    "print(\"train shape: \", train.shape, \" labels shape: \", train_lables.shape)\n",
    "print(\"validation shape: \", val.shape, \" labels shape: \", val_lables.shape)\n",
    "print(\"test shape: \", test.shape, \" labels shape: \", test_lables.shape)"
   ]
  },
  {
   "cell_type": "markdown",
   "metadata": {},
   "source": [
    "We further standardize the data by removing punctuation and turning all letters to lower caps"
   ]
  },
  {
   "cell_type": "code",
   "execution_count": null,
   "metadata": {},
   "outputs": [],
   "source": [
    "def custom_standardization(input_data):\n",
    "    lowercase = tf.strings.lower(input_data)\n",
    "    return tf.strings.regex_replace(lowercase,\n",
    "                                    '[%s]' % re.escape(string.punctuation),\n",
    "                                    ' ')"
   ]
  },
  {
   "cell_type": "markdown",
   "metadata": {},
   "source": [
    "We use 10000 as the vocabulary size and 500 as the sequence lenght"
   ]
  },
  {
   "cell_type": "code",
   "execution_count": 23,
   "metadata": {
    "id": "xyVERrdzn075"
   },
   "outputs": [],
   "source": [
    "vocab_size = 10000\n",
    "sequence_length = 500\n",
    "\n",
    "# Use the text vectorization layer to normalize, split, and map strings to  \n",
    "# Set maximum_sequence length as all samples are not of the same length.\n",
    "vectorize_layer = TextVectorization(\n",
    "    standardize=custom_standardization,\n",
    "    max_tokens=vocab_size,\n",
    "    input_shape=(1,),\n",
    "    output_mode='int')"
   ]
  },
  {
   "cell_type": "code",
   "execution_count": 24,
   "metadata": {
    "id": "dvOREL2Fn510"
   },
   "outputs": [],
   "source": [
    "vectorize_layer.adapt(train)"
   ]
  },
  {
   "cell_type": "markdown",
   "metadata": {},
   "source": [
    "We used two types of neural networks, one of them being an RNNs network."
   ]
  },
  {
   "cell_type": "markdown",
   "metadata": {},
   "source": [
    "### Network #1\n",
    "* embedding layer: turning int encoding to vectors\n",
    "* `Dropout` layer: handling overfitting\n",
    "* `GlobalAveragePooling1D` layer: verages all word embeddings of a review to produce a single average embedding, which we can think as \"summarizing\" or \"distilling\" the meaning of the review."
   ]
  },
  {
   "cell_type": "markdown",
   "metadata": {},
   "source": [
    "Build the model"
   ]
  },
  {
   "cell_type": "code",
   "execution_count": 23,
   "metadata": {
    "colab": {
     "base_uri": "https://localhost:8080/"
    },
    "id": "vZxNV05qo890",
    "outputId": "c913af39-50d8-48f2-d494-0a0c46e9b30d"
   },
   "outputs": [
    {
     "name": "stdout",
     "output_type": "stream",
     "text": [
      "Model: \"sequential\"\n",
      "_________________________________________________________________\n",
      "Layer (type)                 Output Shape              Param #   \n",
      "=================================================================\n",
      "text_vectorization (TextVect (None, None)              0         \n",
      "_________________________________________________________________\n",
      "embedding (Embedding)        (None, None, 64)          640000    \n",
      "_________________________________________________________________\n",
      "global_average_pooling1d (Gl (None, 64)                0         \n",
      "_________________________________________________________________\n",
      "dropout (Dropout)            (None, 64)                0         \n",
      "_________________________________________________________________\n",
      "dense (Dense)                (None, 15)                975       \n",
      "=================================================================\n",
      "Total params: 640,975\n",
      "Trainable params: 640,975\n",
      "Non-trainable params: 0\n",
      "_________________________________________________________________\n"
     ]
    }
   ],
   "source": [
    "model = tf.keras.Sequential([\n",
    "    vectorize_layer,\n",
    "    tf.keras.layers.Embedding(\n",
    "        input_dim=len(vectorize_layer.get_vocabulary()),\n",
    "        output_dim=64,\n",
    "        # Use masking to handle the variable sequence lengths\n",
    "        mask_zero=True),\n",
    "      tf.keras.layers.GlobalAveragePooling1D(),\n",
    "      tf.keras.layers.Dropout(0.2),\n",
    "      tf.keras.layers.Dense(15)\n",
    "])\n",
    "\n",
    "model.summary()"
   ]
  },
  {
   "cell_type": "markdown",
   "metadata": {},
   "source": [
    "We use an adam optimizer and SparseCategoricalCrossentropy loss (we have more than two classes in the form of integers) to compile the model. "
   ]
  },
  {
   "cell_type": "code",
   "execution_count": 24,
   "metadata": {
    "id": "vKluj9yhpwIe"
   },
   "outputs": [],
   "source": [
    "model.compile(optimizer='adam',\n",
    "              loss=tf.keras.losses.SparseCategoricalCrossentropy(from_logits=True),\n",
    "              metrics=['accuracy'])"
   ]
  },
  {
   "cell_type": "markdown",
   "metadata": {},
   "source": [
    "**Untrained model for reference**"
   ]
  },
  {
   "cell_type": "code",
   "execution_count": 25,
   "metadata": {
    "colab": {
     "base_uri": "https://localhost:8080/"
    },
    "id": "cPaN6mrSy-Kx",
    "outputId": "3fbde08e-53f9-48ed-d5c7-e9c0a55575c2"
   },
   "outputs": [
    {
     "name": "stdout",
     "output_type": "stream",
     "text": [
      "1563/1563 [==============================] - 20s 13ms/step - loss: 2.7091 - accuracy: 0.0228\n",
      "Loss:  2.7091469764709473\n",
      "Accuracy:  0.02181999944150448\n"
     ]
    }
   ],
   "source": [
    "loss, accuracy = model.evaluate(test, test_lables)\n",
    "\n",
    "print(\"Loss: \", loss)\n",
    "print(\"Accuracy: \", accuracy)"
   ]
  },
  {
   "cell_type": "code",
   "execution_count": 26,
   "metadata": {
    "id": "bUJSPvGClR22"
   },
   "outputs": [],
   "source": [
    "predictions = model.predict(test)"
   ]
  },
  {
   "cell_type": "code",
   "execution_count": 27,
   "metadata": {
    "colab": {
     "base_uri": "https://localhost:8080/"
    },
    "id": "DD5uA7YYm5BG",
    "outputId": "475ddb9c-9080-4490-be74-35d72f9fcb96"
   },
   "outputs": [
    {
     "name": "stdout",
     "output_type": "stream",
     "text": [
      "              precision    recall  f1-score   support\n",
      "\n",
      "           0       0.00      0.00      0.00      1517\n",
      "           1       0.01      0.19      0.02       449\n",
      "           2       0.00      0.00      0.00       260\n",
      "           3       0.01      0.09      0.01       432\n",
      "           4       0.01      0.00      0.01       915\n",
      "           5       0.01      0.00      0.00       545\n",
      "           6       0.00      0.10      0.01       288\n",
      "           7       0.06      0.00      0.00      3757\n",
      "           8       0.04      0.45      0.07      1551\n",
      "           9       0.02      0.05      0.02       752\n",
      "          10       0.26      0.00      0.01     15709\n",
      "          11       0.32      0.01      0.01     16508\n",
      "          12       0.10      0.00      0.00      6176\n",
      "          13       0.01      0.02      0.02       902\n",
      "          14       0.02      0.02      0.02       239\n",
      "\n",
      "    accuracy                           0.02     50000\n",
      "   macro avg       0.06      0.06      0.01     50000\n",
      "weighted avg       0.21      0.02      0.01     50000\n",
      "\n"
     ]
    }
   ],
   "source": [
    "print(classification_report( test_lables, np.argmax(predictions, axis=1)))"
   ]
  },
  {
   "cell_type": "markdown",
   "metadata": {},
   "source": [
    "The first goal of our model is to do better than the untrained one."
   ]
  },
  {
   "cell_type": "markdown",
   "metadata": {},
   "source": [
    "We define batch_size = 16 and epochs = 15. However the training stops after 11 epochs as the val_loss keeps reducing."
   ]
  },
  {
   "cell_type": "markdown",
   "metadata": {},
   "source": [
    "**Batch_size= 16, epochs = 15**"
   ]
  },
  {
   "cell_type": "code",
   "execution_count": 25,
   "metadata": {
    "colab": {
     "base_uri": "https://localhost:8080/"
    },
    "id": "ZA9Ua-txIRWC",
    "outputId": "d2271994-d039-4860-de00-05dc2d741edb"
   },
   "outputs": [
    {
     "name": "stdout",
     "output_type": "stream",
     "text": [
      "Epoch 1/15\n",
      "7500/7500 [==============================] - 131s 17ms/step - loss: 1.7557 - accuracy: 0.3944 - val_loss: 1.3226 - val_accuracy: 0.5592\n",
      "Epoch 2/15\n",
      "7500/7500 [==============================] - 125s 17ms/step - loss: 1.2465 - accuracy: 0.5909 - val_loss: 1.1486 - val_accuracy: 0.6131\n",
      "Epoch 3/15\n",
      "7500/7500 [==============================] - 129s 17ms/step - loss: 1.0612 - accuracy: 0.6458 - val_loss: 1.0706 - val_accuracy: 0.6352\n",
      "Epoch 4/15\n",
      "7500/7500 [==============================] - 126s 17ms/step - loss: 0.9604 - accuracy: 0.6762 - val_loss: 1.0321 - val_accuracy: 0.6487\n",
      "Epoch 5/15\n",
      "7500/7500 [==============================] - 126s 17ms/step - loss: 0.8879 - accuracy: 0.6988 - val_loss: 1.0144 - val_accuracy: 0.6553\n",
      "Epoch 6/15\n",
      "7500/7500 [==============================] - 125s 17ms/step - loss: 0.8394 - accuracy: 0.7103 - val_loss: 1.0086 - val_accuracy: 0.6566\n",
      "Epoch 7/15\n",
      "7500/7500 [==============================] - 125s 17ms/step - loss: 0.7899 - accuracy: 0.7281 - val_loss: 1.0026 - val_accuracy: 0.6596\n",
      "Epoch 8/15\n",
      "7500/7500 [==============================] - 124s 17ms/step - loss: 0.7514 - accuracy: 0.7399 - val_loss: 1.0025 - val_accuracy: 0.6623\n",
      "Epoch 9/15\n",
      "7500/7500 [==============================] - 128s 17ms/step - loss: 0.7236 - accuracy: 0.7469 - val_loss: 1.0078 - val_accuracy: 0.6622\n",
      "Epoch 10/15\n",
      "7500/7500 [==============================] - 131s 18ms/step - loss: 0.6930 - accuracy: 0.7536 - val_loss: 1.0177 - val_accuracy: 0.6593\n",
      "Epoch 11/15\n",
      "7500/7500 [==============================] - 129s 17ms/step - loss: 0.6742 - accuracy: 0.7600 - val_loss: 1.0221 - val_accuracy: 0.6614\n"
     ]
    }
   ],
   "source": [
    "early_stop = EarlyStopping(monitor='val_loss', patience=3, restore_best_weights = True)\n",
    "\n",
    "epochs = 15\n",
    "batch_size= 16\n",
    "history = model.fit(\n",
    "    train, train_lables,\n",
    "    validation_data= (val ,val_lables),\n",
    "    epochs=epochs,\n",
    "    batch_size = batch_size,\n",
    "    callbacks=[early_stop])"
   ]
  },
  {
   "cell_type": "markdown",
   "metadata": {},
   "source": [
    "The model yields the following scores. <br>"
   ]
  },
  {
   "cell_type": "code",
   "execution_count": 26,
   "metadata": {
    "colab": {
     "base_uri": "https://localhost:8080/"
    },
    "id": "81BQC1kfIWPI",
    "outputId": "c65445ae-50aa-47b7-d57a-8f034dc3dff5"
   },
   "outputs": [
    {
     "name": "stdout",
     "output_type": "stream",
     "text": [
      "1563/1563 [==============================] - 20s 13ms/step - loss: 1.0066 - accuracy: 0.6624\n",
      "Loss:  1.0066428184509277\n",
      "Accuracy:  0.6623600125312805\n"
     ]
    }
   ],
   "source": [
    "loss, accuracy = model.evaluate(test, test_lables)\n",
    "\n",
    "print(\"Loss: \", loss)\n",
    "print(\"Accuracy: \", accuracy)"
   ]
  },
  {
   "cell_type": "code",
   "execution_count": 39,
   "metadata": {
    "colab": {
     "base_uri": "https://localhost:8080/"
    },
    "id": "btrTkjsJTBXY",
    "outputId": "3800fbee-9e95-4528-b636-eacfb9888eba",
    "scrolled": true
   },
   "outputs": [
    {
     "name": "stdout",
     "output_type": "stream",
     "text": [
      "              precision    recall  f1-score   support\n",
      "\n",
      "           0       0.26      0.09      0.13      1517\n",
      "           1       0.47      0.13      0.20       449\n",
      "           2       0.67      0.13      0.22       260\n",
      "           3       0.60      0.31      0.41       432\n",
      "           4       0.57      0.36      0.44       915\n",
      "           5       0.67      0.50      0.58       545\n",
      "           6       0.61      0.31      0.41       288\n",
      "           7       0.83      0.82      0.82      3757\n",
      "           8       0.63      0.57      0.60      1551\n",
      "           9       0.80      0.74      0.76       752\n",
      "          10       0.65      0.67      0.66     15709\n",
      "          11       0.68      0.75      0.71     16508\n",
      "          12       0.60      0.69      0.64      6176\n",
      "          13       0.61      0.45      0.52       902\n",
      "          14       0.27      0.03      0.05       239\n",
      "\n",
      "    accuracy                           0.66     50000\n",
      "   macro avg       0.59      0.44      0.48     50000\n",
      "weighted avg       0.65      0.66      0.65     50000\n",
      "\n"
     ]
    }
   ],
   "source": [
    "from sklearn.metrics import classification_report\n",
    "\n",
    "print(classification_report( test_lables, np.argmax(predictions, axis=1)))"
   ]
  },
  {
   "cell_type": "markdown",
   "metadata": {},
   "source": [
    "It yields far better results than its untrained counterpart. We will try to see if we can do better."
   ]
  },
  {
   "cell_type": "markdown",
   "metadata": {},
   "source": [
    "Let's see what happens when we add a layer"
   ]
  },
  {
   "cell_type": "markdown",
   "metadata": {},
   "source": [
    "**Extra layer**"
   ]
  },
  {
   "cell_type": "code",
   "execution_count": 18,
   "metadata": {
    "colab": {
     "base_uri": "https://localhost:8080/"
    },
    "id": "dGopkbF3j6c3",
    "outputId": "4a78e317-c185-49cb-f31e-9d156988bfb3"
   },
   "outputs": [
    {
     "name": "stdout",
     "output_type": "stream",
     "text": [
      "Model: \"sequential_1\"\n",
      "_________________________________________________________________\n",
      "Layer (type)                 Output Shape              Param #   \n",
      "=================================================================\n",
      "text_vectorization (TextVect (None, None)              0         \n",
      "_________________________________________________________________\n",
      "embedding_2 (Embedding)      (None, None, 64)          640000    \n",
      "_________________________________________________________________\n",
      "lstm_2 (LSTM)                (None, 64)                33024     \n",
      "_________________________________________________________________\n",
      "dense_2 (Dense)              (None, 64)                4160      \n",
      "_________________________________________________________________\n",
      "dense_3 (Dense)              (None, 64)                4160      \n",
      "_________________________________________________________________\n",
      "dense_4 (Dense)              (None, 15)                975       \n",
      "=================================================================\n",
      "Total params: 682,319\n",
      "Trainable params: 682,319\n",
      "Non-trainable params: 0\n",
      "_________________________________________________________________\n"
     ]
    }
   ],
   "source": [
    "model = tf.keras.Sequential([\n",
    "    vectorize_layer,\n",
    "    tf.keras.layers.Embedding(\n",
    "        input_dim=len(vectorize_layer.get_vocabulary()),\n",
    "        output_dim=64,\n",
    "        # Use masking to handle the variable sequence lengths\n",
    "        mask_zero=True),\n",
    "    tf.keras.layers.LSTM(64),\n",
    "    tf.keras.layers.Dense(64, activation='relu'),\n",
    "    tf.keras.layers.Dense(64, activation='relu'),\n",
    "    tf.keras.layers.Dense(15)\n",
    "])\n",
    "\n",
    "model.summary()"
   ]
  },
  {
   "cell_type": "code",
   "execution_count": 19,
   "metadata": {
    "id": "91GBm9D7j6fE"
   },
   "outputs": [],
   "source": [
    "model.compile(optimizer='adam',\n",
    "              loss=tf.keras.losses.SparseCategoricalCrossentropy(from_logits=True),\n",
    "              metrics=['accuracy'])"
   ]
  },
  {
   "cell_type": "code",
   "execution_count": 20,
   "metadata": {
    "colab": {
     "base_uri": "https://localhost:8080/"
    },
    "id": "Lmbnk56hj6hE",
    "outputId": "15aa093c-5a72-47c1-fd63-672f85d2c37f"
   },
   "outputs": [
    {
     "name": "stdout",
     "output_type": "stream",
     "text": [
      "Epoch 1/15\n",
      "7500/7500 [==============================] - 532s 70ms/step - loss: 1.7760 - accuracy: 0.3477 - val_loss: 1.4177 - val_accuracy: 0.4718\n",
      "Epoch 2/15\n",
      "7500/7500 [==============================] - 528s 70ms/step - loss: 1.3374 - accuracy: 0.5061 - val_loss: 1.2095 - val_accuracy: 0.5755\n",
      "Epoch 3/15\n",
      "7500/7500 [==============================] - 521s 69ms/step - loss: 1.0632 - accuracy: 0.6334 - val_loss: 1.0819 - val_accuracy: 0.6290\n",
      "Epoch 4/15\n",
      "7500/7500 [==============================] - 521s 69ms/step - loss: 0.8732 - accuracy: 0.7023 - val_loss: 1.0182 - val_accuracy: 0.6454\n",
      "Epoch 5/15\n",
      "7500/7500 [==============================] - 520s 69ms/step - loss: 0.7468 - accuracy: 0.7480 - val_loss: 1.0418 - val_accuracy: 0.6491\n",
      "Epoch 6/15\n",
      "7500/7500 [==============================] - 521s 70ms/step - loss: 0.6470 - accuracy: 0.7808 - val_loss: 1.0901 - val_accuracy: 0.6520\n",
      "Epoch 7/15\n",
      "7500/7500 [==============================] - 520s 69ms/step - loss: 0.5470 - accuracy: 0.8148 - val_loss: 1.1608 - val_accuracy: 0.6485\n"
     ]
    }
   ],
   "source": [
    "early_stop = EarlyStopping(monitor='val_loss', patience=3, restore_best_weights = True)\n",
    "\n",
    "epochs = 15\n",
    "batch_size= 16\n",
    "history = model.fit(\n",
    "    train, train_lables,\n",
    "    validation_data= (val ,val_lables),\n",
    "    epochs=epochs,\n",
    "    batch_size = batch_size,\n",
    "    callbacks=[early_stop])"
   ]
  },
  {
   "cell_type": "code",
   "execution_count": 22,
   "metadata": {
    "colab": {
     "base_uri": "https://localhost:8080/"
    },
    "id": "U342v36Fj6jZ",
    "outputId": "582dc23e-5429-40d6-b44a-9423b1fca6cb"
   },
   "outputs": [
    {
     "name": "stdout",
     "output_type": "stream",
     "text": [
      "1563/1563 [==============================] - 65s 41ms/step - loss: 1.0248 - accuracy: 0.6462\n",
      "Loss:  1.0247915983200073\n",
      "Accuracy:  0.6461799740791321\n"
     ]
    }
   ],
   "source": [
    "loss, accuracy = model.evaluate(test, test_lables)\n",
    "\n",
    "print(\"Loss: \", loss)\n",
    "print(\"Accuracy: \", accuracy)"
   ]
  },
  {
   "cell_type": "code",
   "execution_count": 24,
   "metadata": {
    "id": "QvkbDxqY0Pe9"
   },
   "outputs": [],
   "source": [
    "predictions = model.predict(test)"
   ]
  },
  {
   "cell_type": "code",
   "execution_count": 25,
   "metadata": {
    "colab": {
     "base_uri": "https://localhost:8080/"
    },
    "id": "9uWmnvVej6nC",
    "outputId": "561a535a-7502-4f97-8807-8e3ca8479d90"
   },
   "outputs": [
    {
     "name": "stdout",
     "output_type": "stream",
     "text": [
      "              precision    recall  f1-score   support\n",
      "\n",
      "           0       0.30      0.02      0.04      1517\n",
      "           1       0.38      0.06      0.11       449\n",
      "           2       0.23      0.05      0.08       260\n",
      "           3       0.66      0.28      0.40       432\n",
      "           4       0.58      0.11      0.19       915\n",
      "           5       0.53      0.28      0.37       545\n",
      "           6       0.77      0.35      0.49       288\n",
      "           7       0.86      0.77      0.82      3757\n",
      "           8       0.48      0.56      0.52      1551\n",
      "           9       0.73      0.64      0.68       752\n",
      "          10       0.60      0.77      0.68     15709\n",
      "          11       0.75      0.64      0.69     16508\n",
      "          12       0.54      0.72      0.62      6176\n",
      "          13       0.52      0.43      0.48       902\n",
      "          14       0.29      0.03      0.05       239\n",
      "\n",
      "    accuracy                           0.65     50000\n",
      "   macro avg       0.55      0.38      0.41     50000\n",
      "weighted avg       0.65      0.65      0.63     50000\n",
      "\n"
     ]
    }
   ],
   "source": [
    "from sklearn.metrics import classification_report\n",
    "\n",
    "print(classification_report( test_lables, np.argmax(predictions, axis=1)))"
   ]
  },
  {
   "cell_type": "markdown",
   "metadata": {},
   "source": [
    "Adding another layer seems to very slightly worsen our network."
   ]
  },
  {
   "cell_type": "markdown",
   "metadata": {},
   "source": [
    "### Network #2: RNN"
   ]
  },
  {
   "cell_type": "markdown",
   "metadata": {},
   "source": [
    "For the model we use:\n",
    "* an Embedding layer, this time with 64 dimentions, \n",
    "* an LSTM layer with 64 LSTM cells, \n",
    "* a dense layer with relu (rectified linear unit) activation and \n",
    "* a dense output layer."
   ]
  },
  {
   "cell_type": "code",
   "execution_count": 25,
   "metadata": {
    "colab": {
     "base_uri": "https://localhost:8080/"
    },
    "id": "vZxNV05qo890",
    "outputId": "a4b91281-6f30-4f19-fbe2-ad41f7681bd1"
   },
   "outputs": [
    {
     "name": "stdout",
     "output_type": "stream",
     "text": [
      "Model: \"sequential\"\n",
      "_________________________________________________________________\n",
      "Layer (type)                 Output Shape              Param #   \n",
      "=================================================================\n",
      "text_vectorization_1 (TextVe (None, None)              0         \n",
      "_________________________________________________________________\n",
      "embedding (Embedding)        (None, None, 64)          640000    \n",
      "_________________________________________________________________\n",
      "lstm (LSTM)                  (None, 64)                33024     \n",
      "_________________________________________________________________\n",
      "dense (Dense)                (None, 64)                4160      \n",
      "_________________________________________________________________\n",
      "dense_1 (Dense)              (None, 15)                975       \n",
      "=================================================================\n",
      "Total params: 678,159\n",
      "Trainable params: 678,159\n",
      "Non-trainable params: 0\n",
      "_________________________________________________________________\n"
     ]
    }
   ],
   "source": [
    "model = tf.keras.Sequential([\n",
    "    vectorize_layer,\n",
    "    tf.keras.layers.Embedding(\n",
    "        input_dim=len(vectorize_layer.get_vocabulary()),\n",
    "        output_dim=64,\n",
    "        # Use masking to handle the variable sequence lengths\n",
    "        mask_zero=True),\n",
    "    tf.keras.layers.LSTM(64),\n",
    "    tf.keras.layers.Dense(64, activation='relu'),\n",
    "    tf.keras.layers.Dense(15)\n",
    "])\n",
    "\n",
    "model.summary()"
   ]
  },
  {
   "cell_type": "code",
   "execution_count": 52,
   "metadata": {
    "id": "vKluj9yhpwIe"
   },
   "outputs": [],
   "source": [
    "optimizer = Adam(learning_rate=0.001, beta_1=0.9, beta_2=0.999)\n",
    "model.compile(optimizer='adam',\n",
    "              loss=tf.keras.losses.SparseCategoricalCrossentropy(from_logits=True),\n",
    "              metrics=['accuracy'])"
   ]
  },
  {
   "cell_type": "markdown",
   "metadata": {},
   "source": [
    "**Untrained model for reference**"
   ]
  },
  {
   "cell_type": "code",
   "execution_count": 20,
   "metadata": {
    "colab": {
     "base_uri": "https://localhost:8080/"
    },
    "id": "U342v36Fj6jZ",
    "outputId": "15a4c74a-7f33-404b-f0ce-756e34126afd"
   },
   "outputs": [
    {
     "name": "stdout",
     "output_type": "stream",
     "text": [
      "1563/1563 [==============================] - 72s 41ms/step - loss: 2.7052 - accuracy: 0.1275\n",
      "Loss:  2.705211877822876\n",
      "Accuracy:  0.12639999389648438\n"
     ]
    }
   ],
   "source": [
    "loss, accuracy = model.evaluate(test, test_lables)\n",
    "\n",
    "print(\"Loss: \", loss)\n",
    "print(\"Accuracy: \", accuracy)"
   ]
  },
  {
   "cell_type": "code",
   "execution_count": 21,
   "metadata": {
    "id": "QvkbDxqY0Pe9"
   },
   "outputs": [],
   "source": [
    "predictions = model.predict(test)"
   ]
  },
  {
   "cell_type": "code",
   "execution_count": 22,
   "metadata": {
    "colab": {
     "base_uri": "https://localhost:8080/"
    },
    "id": "9uWmnvVej6nC",
    "outputId": "ff0ce0e1-3218-48aa-cb76-cd8707941c56",
    "scrolled": true
   },
   "outputs": [
    {
     "name": "stdout",
     "output_type": "stream",
     "text": [
      "              precision    recall  f1-score   support\n",
      "\n",
      "           0       0.03      0.04      0.03      1517\n",
      "           1       0.01      0.10      0.01       449\n",
      "           2       0.00      0.01      0.00       260\n",
      "           3       0.00      0.01      0.00       432\n",
      "           4       0.02      0.02      0.02       915\n",
      "           5       0.00      0.01      0.01       545\n",
      "           6       0.00      0.00      0.00       288\n",
      "           7       0.14      0.02      0.03      3757\n",
      "           8       0.04      0.02      0.03      1551\n",
      "           9       0.01      0.00      0.00       752\n",
      "          10       0.32      0.17      0.22     15709\n",
      "          11       0.35      0.06      0.10     16508\n",
      "          12       0.13      0.39      0.19      6176\n",
      "          13       0.01      0.02      0.02       902\n",
      "          14       0.00      0.08      0.01       239\n",
      "\n",
      "    accuracy                           0.13     50000\n",
      "   macro avg       0.07      0.06      0.05     50000\n",
      "weighted avg       0.24      0.13      0.13     50000\n",
      "\n"
     ]
    }
   ],
   "source": [
    "from sklearn.metrics import classification_report\n",
    "\n",
    "print(classification_report( test_lables, np.argmax(predictions, axis=1)))"
   ]
  },
  {
   "cell_type": "markdown",
   "metadata": {},
   "source": [
    "**Batch_size = 16, epochs = 15**"
   ]
  },
  {
   "cell_type": "markdown",
   "metadata": {},
   "source": [
    "We will use a batch size of 16 and 15 epochs. However the model will stop improving on the 7th epoch and the training will terminate."
   ]
  },
  {
   "cell_type": "code",
   "execution_count": 53,
   "metadata": {
    "colab": {
     "base_uri": "https://localhost:8080/"
    },
    "id": "ZA9Ua-txIRWC",
    "outputId": "a1805e73-38f5-4247-983b-039683d26d7e"
   },
   "outputs": [
    {
     "name": "stdout",
     "output_type": "stream",
     "text": [
      "Epoch 1/15\n",
      "7500/7500 [==============================] - 522s 69ms/step - loss: 1.7770 - accuracy: 0.3510 - val_loss: 1.4364 - val_accuracy: 0.4593\n",
      "Epoch 2/15\n",
      "7500/7500 [==============================] - 521s 69ms/step - loss: 1.2981 - accuracy: 0.5265 - val_loss: 1.0959 - val_accuracy: 0.6091\n",
      "Epoch 3/15\n",
      "7500/7500 [==============================] - 513s 68ms/step - loss: 0.9618 - accuracy: 0.6689 - val_loss: 0.9809 - val_accuracy: 0.6604\n",
      "Epoch 4/15\n",
      "7500/7500 [==============================] - 515s 69ms/step - loss: 0.7892 - accuracy: 0.7313 - val_loss: 0.9589 - val_accuracy: 0.6714\n",
      "Epoch 5/15\n",
      "7500/7500 [==============================] - 516s 69ms/step - loss: 0.6628 - accuracy: 0.7768 - val_loss: 0.9799 - val_accuracy: 0.6733\n",
      "Epoch 6/15\n",
      "7500/7500 [==============================] - 513s 68ms/step - loss: 0.5539 - accuracy: 0.8133 - val_loss: 1.0340 - val_accuracy: 0.6696\n",
      "Epoch 7/15\n",
      "7500/7500 [==============================] - 512s 68ms/step - loss: 0.4655 - accuracy: 0.8449 - val_loss: 1.1528 - val_accuracy: 0.6631\n"
     ]
    }
   ],
   "source": [
    "early_stop = EarlyStopping(monitor='val_loss', patience=3, restore_best_weights = True)\n",
    "\n",
    "epochs = 15\n",
    "batch_size= 16\n",
    "history = model.fit(\n",
    "    train, train_lables,\n",
    "    validation_data= (val ,val_lables),\n",
    "    epochs=epochs,\n",
    "    batch_size = batch_size,\n",
    "    callbacks=[early_stop])"
   ]
  },
  {
   "cell_type": "code",
   "execution_count": null,
   "metadata": {
    "colab": {
     "base_uri": "https://localhost:8080/"
    },
    "id": "px5KYZwDyUVz",
    "outputId": "68363151-b860-42dc-e4c1-477fec75cb02"
   },
   "outputs": [
    {
     "name": "stdout",
     "output_type": "stream",
     "text": [
      "1563/1563 [==============================] - 59s 38ms/step - loss: 1.1272 - accuracy: 0.6386\n",
      "Loss:  1.1271790266036987\n",
      "Accuracy:  0.6386200189590454\n"
     ]
    }
   ],
   "source": [
    "loss, accuracy = model.evaluate(test, test_lables)\n",
    "\n",
    "print(\"Loss: \", loss)\n",
    "print(\"Accuracy: \", accuracy)"
   ]
  },
  {
   "cell_type": "markdown",
   "metadata": {},
   "source": [
    "The model surpasses its untrained counterpart but is not the best we have seen so far (albeit with small differences)"
   ]
  },
  {
   "cell_type": "markdown",
   "metadata": {},
   "source": [
    "**Batch_size = 32, epochs = 10**"
   ]
  },
  {
   "cell_type": "code",
   "execution_count": 27,
   "metadata": {
    "colab": {
     "base_uri": "https://localhost:8080/"
    },
    "id": "WuFyZ4bjpHPK",
    "outputId": "517a29f3-9939-48b1-eb42-02f9f23564c5"
   },
   "outputs": [
    {
     "name": "stdout",
     "output_type": "stream",
     "text": [
      "Epoch 1/10\n",
      "3750/3750 [==============================] - 349s 91ms/step - loss: 1.7957 - accuracy: 0.3445 - val_loss: 1.7031 - val_accuracy: 0.3803\n",
      "Epoch 2/10\n",
      "3750/3750 [==============================] - 341s 91ms/step - loss: 1.6305 - accuracy: 0.4065 - val_loss: 1.3593 - val_accuracy: 0.4891\n",
      "Epoch 3/10\n",
      "3750/3750 [==============================] - 340s 91ms/step - loss: 1.2673 - accuracy: 0.5410 - val_loss: 1.1260 - val_accuracy: 0.6039\n",
      "Epoch 4/10\n",
      "3750/3750 [==============================] - 339s 91ms/step - loss: 1.0167 - accuracy: 0.6502 - val_loss: 1.0316 - val_accuracy: 0.6434\n",
      "Epoch 5/10\n",
      "3750/3750 [==============================] - 340s 91ms/step - loss: 0.8658 - accuracy: 0.7077 - val_loss: 1.0480 - val_accuracy: 0.6533\n",
      "Epoch 6/10\n",
      "3750/3750 [==============================] - 341s 91ms/step - loss: 0.7514 - accuracy: 0.7456 - val_loss: 0.9953 - val_accuracy: 0.6681\n",
      "Epoch 7/10\n",
      "3750/3750 [==============================] - 340s 91ms/step - loss: 0.6557 - accuracy: 0.7784 - val_loss: 1.0454 - val_accuracy: 0.6599\n",
      "Epoch 8/10\n",
      "3750/3750 [==============================] - 341s 91ms/step - loss: 0.5622 - accuracy: 0.8122 - val_loss: 1.1278 - val_accuracy: 0.6613\n",
      "Epoch 9/10\n",
      "3750/3750 [==============================] - 340s 91ms/step - loss: 0.4736 - accuracy: 0.8417 - val_loss: 1.1961 - val_accuracy: 0.6540\n"
     ]
    }
   ],
   "source": [
    "early_stop = EarlyStopping(monitor='val_loss', patience=3, restore_best_weights = True)\n",
    "\n",
    "epochs = 10\n",
    "batch_size= 32\n",
    "history = model.fit(\n",
    "    train, train_lables,\n",
    "    validation_data= (val ,val_lables),\n",
    "    epochs=epochs,\n",
    "    batch_size = batch_size,\n",
    "    callbacks=[early_stop])"
   ]
  },
  {
   "cell_type": "code",
   "execution_count": 28,
   "metadata": {
    "colab": {
     "base_uri": "https://localhost:8080/"
    },
    "id": "px5KYZwDyUVz",
    "outputId": "4a558227-7cf4-4172-c53b-26ac36da328b"
   },
   "outputs": [
    {
     "name": "stdout",
     "output_type": "stream",
     "text": [
      "1563/1563 [==============================] - 59s 38ms/step - loss: 1.0121 - accuracy: 0.6606\n",
      "Loss:  1.0120649337768555\n",
      "Accuracy:  0.6606199741363525\n"
     ]
    }
   ],
   "source": [
    "loss, accuracy = model.evaluate(test, test_lables)\n",
    "\n",
    "print(\"Loss: \", loss)\n",
    "print(\"Accuracy: \", accuracy)"
   ]
  },
  {
   "cell_type": "markdown",
   "metadata": {},
   "source": [
    "**Adding a regulizer**"
   ]
  },
  {
   "cell_type": "markdown",
   "metadata": {},
   "source": [
    "When using a regulizer we yield similar scores"
   ]
  },
  {
   "cell_type": "code",
   "execution_count": 34,
   "metadata": {
    "id": "eYexUPIX-9f0"
   },
   "outputs": [],
   "source": [
    "from tensorflow.keras import layers\n",
    "from tensorflow.keras import regularizers"
   ]
  },
  {
   "cell_type": "code",
   "execution_count": 35,
   "metadata": {
    "colab": {
     "base_uri": "https://localhost:8080/"
    },
    "id": "vZxNV05qo890",
    "outputId": "d8bd8614-1343-41bd-d895-00dbcb001c7b"
   },
   "outputs": [
    {
     "name": "stdout",
     "output_type": "stream",
     "text": [
      "Model: \"sequential\"\n",
      "_________________________________________________________________\n",
      "Layer (type)                 Output Shape              Param #   \n",
      "=================================================================\n",
      "text_vectorization (TextVect (None, None)              0         \n",
      "_________________________________________________________________\n",
      "embedding (Embedding)        (None, None, 64)          640000    \n",
      "_________________________________________________________________\n",
      "lstm (LSTM)                  (None, 64)                33024     \n",
      "_________________________________________________________________\n",
      "dense (Dense)                (None, 64)                4160      \n",
      "_________________________________________________________________\n",
      "dense_1 (Dense)              (None, 15)                975       \n",
      "=================================================================\n",
      "Total params: 678,159\n",
      "Trainable params: 678,159\n",
      "Non-trainable params: 0\n",
      "_________________________________________________________________\n"
     ]
    }
   ],
   "source": [
    "model = tf.keras.Sequential([\n",
    "    vectorize_layer,\n",
    "    tf.keras.layers.Embedding(\n",
    "        input_dim=len(vectorize_layer.get_vocabulary()),\n",
    "        output_dim=64,\n",
    "        # Use masking to handle the variable sequence lengths\n",
    "        mask_zero=True),\n",
    "    tf.keras.layers.LSTM(64),\n",
    "    tf.keras.layers.Dense(64, activation='relu',\n",
    "                          kernel_regularizer=regularizers.l2(0.0001)),\n",
    "    tf.keras.layers.Dense(15)\n",
    "])\n",
    "\n",
    "model.summary()"
   ]
  },
  {
   "cell_type": "code",
   "execution_count": 38,
   "metadata": {
    "colab": {
     "base_uri": "https://localhost:8080/"
    },
    "id": "ZA9Ua-txIRWC",
    "outputId": "52483240-73d7-45d8-bca7-88f1a4ba2d59",
    "scrolled": true
   },
   "outputs": [
    {
     "name": "stdout",
     "output_type": "stream",
     "text": [
      "Epoch 1/15\n",
      "7500/7500 [==============================] - 518s 69ms/step - loss: 0.7496 - accuracy: 0.7496 - val_loss: 1.0124 - val_accuracy: 0.6583\n",
      "Epoch 2/15\n",
      "7500/7500 [==============================] - 511s 68ms/step - loss: 0.6642 - accuracy: 0.7799 - val_loss: 1.0470 - val_accuracy: 0.6637\n",
      "Epoch 3/15\n",
      "7500/7500 [==============================] - 514s 68ms/step - loss: 0.5772 - accuracy: 0.8103 - val_loss: 1.1050 - val_accuracy: 0.6589\n",
      "Epoch 4/15\n",
      "7500/7500 [==============================] - 517s 69ms/step - loss: 0.4971 - accuracy: 0.8381 - val_loss: 1.2110 - val_accuracy: 0.6581\n"
     ]
    }
   ],
   "source": [
    "early_stop = EarlyStopping(monitor='val_loss', patience=3, restore_best_weights = True)\n",
    "\n",
    "epochs = 15\n",
    "batch_size= 16\n",
    "history = model.fit(\n",
    "    train, train_lables,\n",
    "    validation_data= (val ,val_lables),\n",
    "    epochs=epochs,\n",
    "    batch_size = batch_size,\n",
    "    callbacks=[early_stop])"
   ]
  },
  {
   "cell_type": "code",
   "execution_count": 39,
   "metadata": {
    "colab": {
     "base_uri": "https://localhost:8080/"
    },
    "id": "81BQC1kfIWPI",
    "outputId": "2016240a-c7d3-45c5-f458-e942b9876f9f"
   },
   "outputs": [
    {
     "name": "stdout",
     "output_type": "stream",
     "text": [
      "1563/1563 [==============================] - 66s 42ms/step - loss: 1.0195 - accuracy: 0.6563\n",
      "Loss:  1.0194916725158691\n",
      "Accuracy:  0.656279981136322\n"
     ]
    }
   ],
   "source": [
    "loss, accuracy = model.evaluate(test, test_lables)\n",
    "\n",
    "print(\"Loss: \", loss)\n",
    "print(\"Accuracy: \", accuracy)"
   ]
  },
  {
   "cell_type": "code",
   "execution_count": 40,
   "metadata": {
    "id": "3h9KPVJ1Z_W9"
   },
   "outputs": [],
   "source": [
    "predictions = model.predict(test)"
   ]
  },
  {
   "cell_type": "code",
   "execution_count": 41,
   "metadata": {
    "colab": {
     "base_uri": "https://localhost:8080/"
    },
    "id": "ZRlr00_tRMJI",
    "outputId": "2bfebb3d-f48c-4d73-c558-36368ebb610c"
   },
   "outputs": [
    {
     "name": "stdout",
     "output_type": "stream",
     "text": [
      "              precision    recall  f1-score   support\n",
      "\n",
      "           0       0.26      0.03      0.06      1517\n",
      "           1       0.47      0.04      0.07       449\n",
      "           2       0.67      0.05      0.09       260\n",
      "           3       0.70      0.31      0.43       432\n",
      "           4       0.54      0.20      0.29       915\n",
      "           5       0.32      0.54      0.40       545\n",
      "           6       0.65      0.35      0.46       288\n",
      "           7       0.81      0.78      0.79      3757\n",
      "           8       0.53      0.60      0.56      1551\n",
      "           9       0.70      0.66      0.68       752\n",
      "          10       0.68      0.63      0.66     15709\n",
      "          11       0.69      0.78      0.73     16508\n",
      "          12       0.56      0.72      0.63      6176\n",
      "          13       0.48      0.48      0.48       902\n",
      "          14       0.33      0.02      0.04       239\n",
      "\n",
      "    accuracy                           0.66     50000\n",
      "   macro avg       0.56      0.41      0.42     50000\n",
      "weighted avg       0.65      0.66      0.64     50000\n",
      "\n"
     ]
    }
   ],
   "source": [
    "from sklearn.metrics import classification_report\n",
    "\n",
    "print(classification_report( test_lables, np.argmax(predictions, axis=1)))"
   ]
  },
  {
   "cell_type": "markdown",
   "metadata": {},
   "source": [
    "We see that all of our networks have similar scores in accuracy (65-66%), therefore we didn't do a good job when it comes to fine tuning the model, and they present significal losses and mediocer accuracy. However, they are clearly more accurate than the supervised learning models of Part 2, surpassing the \"best\" one (sdg) in accuracy by about 27%."
   ]
  }
 ],
 "metadata": {
  "kernelspec": {
   "display_name": "Python 3",
   "language": "python",
   "name": "python3"
  },
  "language_info": {
   "codemirror_mode": {
    "name": "ipython",
    "version": 3
   },
   "file_extension": ".py",
   "mimetype": "text/x-python",
   "name": "python",
   "nbconvert_exporter": "python",
   "pygments_lexer": "ipython3",
   "version": "3.8.5"
  }
 },
 "nbformat": 4,
 "nbformat_minor": 5
}
